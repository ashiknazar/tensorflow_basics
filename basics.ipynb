{
  "nbformat": 4,
  "nbformat_minor": 0,
  "metadata": {
    "colab": {
      "provenance": []
    },
    "kernelspec": {
      "name": "python3",
      "display_name": "Python 3"
    },
    "language_info": {
      "name": "python"
    }
  },
  "cells": [
    {
      "cell_type": "code",
      "execution_count": 82,
      "metadata": {
        "id": "2dVZvCufgUsd"
      },
      "outputs": [],
      "source": [
        "import tensorflow as tf"
      ]
    },
    {
      "cell_type": "markdown",
      "source": [
        "**Scalars and vectors**"
      ],
      "metadata": {
        "id": "Yx7joiQQjp_i"
      }
    },
    {
      "cell_type": "code",
      "source": [
        "#scalar\n",
        "tensor_zero_dimention=tf.constant(4)\n",
        "print(tensor_zero_dimention)"
      ],
      "metadata": {
        "colab": {
          "base_uri": "https://localhost:8080/"
        },
        "id": "vuwmHXDogZCJ",
        "outputId": "d0be5346-52ee-4d1d-9101-ea508c0af080"
      },
      "execution_count": null,
      "outputs": [
        {
          "output_type": "stream",
          "name": "stdout",
          "text": [
            "tf.Tensor(4, shape=(), dtype=int32)\n"
          ]
        }
      ]
    },
    {
      "cell_type": "code",
      "source": [
        "#one dim\n",
        "tensor_one_dim=tf.constant([2,0,-3])\n",
        "print(tensor_one_dim)"
      ],
      "metadata": {
        "colab": {
          "base_uri": "https://localhost:8080/"
        },
        "id": "fe2TaSvtglRm",
        "outputId": "fae89bcf-2fe0-4b14-b21a-59550de65ddf"
      },
      "execution_count": null,
      "outputs": [
        {
          "output_type": "stream",
          "name": "stdout",
          "text": [
            "tf.Tensor([ 2  0 -3], shape=(3,), dtype=int32)\n"
          ]
        }
      ]
    },
    {
      "cell_type": "code",
      "source": [
        "tensor_two_d=tf.constant([[1,2,0],[3,4,3],[9,90,0]])\n",
        "print(tensor_two_d)"
      ],
      "metadata": {
        "colab": {
          "base_uri": "https://localhost:8080/"
        },
        "id": "TY-uiYafhIdW",
        "outputId": "e9d9ae55-cd77-48c8-b2ae-9a95523a3690"
      },
      "execution_count": null,
      "outputs": [
        {
          "output_type": "stream",
          "name": "stdout",
          "text": [
            "tf.Tensor(\n",
            "[[ 1  2  0]\n",
            " [ 3  4  3]\n",
            " [ 9 90  0]], shape=(3, 3), dtype=int32)\n"
          ]
        }
      ]
    },
    {
      "cell_type": "code",
      "source": [
        "print(tensor_two_d.shape)"
      ],
      "metadata": {
        "colab": {
          "base_uri": "https://localhost:8080/"
        },
        "id": "vFbXPDKOhfgc",
        "outputId": "2a57d8d5-a3bf-4909-f193-bde65a6208d8"
      },
      "execution_count": null,
      "outputs": [
        {
          "output_type": "stream",
          "name": "stdout",
          "text": [
            "(3, 3)\n"
          ]
        }
      ]
    },
    {
      "cell_type": "code",
      "source": [
        "print(tensor_two_d.ndim)"
      ],
      "metadata": {
        "colab": {
          "base_uri": "https://localhost:8080/"
        },
        "id": "UhN2puz8hycU",
        "outputId": "84c38544-a1c1-4e6d-deca-b8f279b1d564"
      },
      "execution_count": null,
      "outputs": [
        {
          "output_type": "stream",
          "name": "stdout",
          "text": [
            "2\n"
          ]
        }
      ]
    },
    {
      "cell_type": "code",
      "source": [
        "#setting data type\n",
        "tens_dtype=tf.constant([2,0,-3,8],dtype=tf.float32)\n",
        "print(tens_dtype)\n",
        "\n",
        "#dtype here is not int but float"
      ],
      "metadata": {
        "colab": {
          "base_uri": "https://localhost:8080/"
        },
        "id": "GbE45_Xgh7M6",
        "outputId": "2c708d2a-9c15-48ac-d4f8-b1ede1b86cf6"
      },
      "execution_count": null,
      "outputs": [
        {
          "output_type": "stream",
          "name": "stdout",
          "text": [
            "tf.Tensor([ 2.  0. -3.  8.], shape=(4,), dtype=float32)\n"
          ]
        }
      ]
    },
    {
      "cell_type": "markdown",
      "source": [
        "**Data types and casting**"
      ],
      "metadata": {
        "id": "BOnyuzNbj5El"
      }
    },
    {
      "cell_type": "markdown",
      "source": [
        "https://www.tensorflow.org/api_docs/python/tf/dtypes"
      ],
      "metadata": {
        "id": "LZJYGOLbjC1j"
      }
    },
    {
      "cell_type": "code",
      "source": [
        "tens_dtype=tf.cast(tens_dtype,dtype=tf.int16)\n",
        "print(tens_dtype)"
      ],
      "metadata": {
        "colab": {
          "base_uri": "https://localhost:8080/"
        },
        "id": "aQ-INBDZjG5v",
        "outputId": "32223af1-aba2-43e0-8060-ab170fbe4be6"
      },
      "execution_count": null,
      "outputs": [
        {
          "output_type": "stream",
          "name": "stdout",
          "text": [
            "tf.Tensor([ 2  0 -3  8], shape=(4,), dtype=int16)\n"
          ]
        }
      ]
    },
    {
      "cell_type": "markdown",
      "source": [
        "**Multi dimentional arrays**"
      ],
      "metadata": {
        "id": "PP5NHoVQkLAw"
      }
    },
    {
      "cell_type": "code",
      "source": [
        "import numpy as np"
      ],
      "metadata": {
        "id": "hwNKLdoajfcu"
      },
      "execution_count": null,
      "outputs": []
    },
    {
      "cell_type": "code",
      "source": [
        "np_array=np.array([1,2,4])\n",
        "print(np_array)"
      ],
      "metadata": {
        "colab": {
          "base_uri": "https://localhost:8080/"
        },
        "id": "TZQLg5g0kW9-",
        "outputId": "6b3e73c7-5a6e-45e1-8a33-a4126b97dcbd"
      },
      "execution_count": null,
      "outputs": [
        {
          "output_type": "stream",
          "name": "stdout",
          "text": [
            "[1 2 4]\n"
          ]
        }
      ]
    },
    {
      "cell_type": "code",
      "source": [
        "conv_to_tensor=tf.convert_to_tensor(np_array)"
      ],
      "metadata": {
        "id": "TSLQ48iOkk2Y"
      },
      "execution_count": null,
      "outputs": []
    },
    {
      "cell_type": "code",
      "source": [
        "conv_to_tensor"
      ],
      "metadata": {
        "colab": {
          "base_uri": "https://localhost:8080/"
        },
        "id": "qYWL81j5kuP7",
        "outputId": "9c1c3b18-435a-46d8-99a9-3f1f25c1202a"
      },
      "execution_count": null,
      "outputs": [
        {
          "output_type": "execute_result",
          "data": {
            "text/plain": [
              "<tf.Tensor: shape=(3,), dtype=int64, numpy=array([1, 2, 4])>"
            ]
          },
          "metadata": {},
          "execution_count": 17
        }
      ]
    },
    {
      "cell_type": "code",
      "source": [
        "eye_tens=tf.eye(num_rows=5,\n",
        "                num_columns=3,\n",
        "                batch_shape=None,\n",
        "                dtype=tf.dtypes.float32,\n",
        "                name=None\n",
        "                )\n",
        "print(eye_tens)"
      ],
      "metadata": {
        "colab": {
          "base_uri": "https://localhost:8080/"
        },
        "id": "W3Pxk5WKkvyT",
        "outputId": "5f708611-dd8e-40b5-bd42-a18fb91bd915"
      },
      "execution_count": null,
      "outputs": [
        {
          "output_type": "stream",
          "name": "stdout",
          "text": [
            "tf.Tensor(\n",
            "[[1. 0. 0.]\n",
            " [0. 1. 0.]\n",
            " [0. 0. 1.]\n",
            " [0. 0. 0.]\n",
            " [0. 0. 0.]], shape=(5, 3), dtype=float32)\n"
          ]
        }
      ]
    },
    {
      "cell_type": "code",
      "source": [
        "fill_tensor=tf.fill([3,4],5,name=None)\n",
        "print(fill_tensor)"
      ],
      "metadata": {
        "colab": {
          "base_uri": "https://localhost:8080/"
        },
        "id": "VQyfqTF2lUVm",
        "outputId": "564f1ca0-9dc8-461f-e275-55f3154863be"
      },
      "execution_count": null,
      "outputs": [
        {
          "output_type": "stream",
          "name": "stdout",
          "text": [
            "tf.Tensor(\n",
            "[[5 5 5 5]\n",
            " [5 5 5 5]\n",
            " [5 5 5 5]], shape=(3, 4), dtype=int32)\n"
          ]
        }
      ]
    },
    {
      "cell_type": "code",
      "source": [
        "ones=tf.ones([5,5],dtype=tf.dtypes.float32,name=None)\n",
        "print(ones)"
      ],
      "metadata": {
        "colab": {
          "base_uri": "https://localhost:8080/"
        },
        "id": "ChXbyXIjlnOz",
        "outputId": "73836d97-1ca7-43fb-fd91-f951077d720d"
      },
      "execution_count": null,
      "outputs": [
        {
          "output_type": "stream",
          "name": "stdout",
          "text": [
            "tf.Tensor(\n",
            "[[1. 1. 1. 1. 1.]\n",
            " [1. 1. 1. 1. 1.]\n",
            " [1. 1. 1. 1. 1.]\n",
            " [1. 1. 1. 1. 1.]\n",
            " [1. 1. 1. 1. 1.]], shape=(5, 5), dtype=float32)\n"
          ]
        }
      ]
    },
    {
      "cell_type": "code",
      "source": [
        "#ones like\n",
        "\n",
        "sample=tf.constant([[1,2,3],[4,6,7]])\n",
        "one_like_tensor=tf.ones_like(sample)\n",
        "print(one_like_tensor)"
      ],
      "metadata": {
        "colab": {
          "base_uri": "https://localhost:8080/"
        },
        "id": "SjQIhxBqlonW",
        "outputId": "663b17d1-4150-42ba-b8cc-a290e8bbd188"
      },
      "execution_count": null,
      "outputs": [
        {
          "output_type": "stream",
          "name": "stdout",
          "text": [
            "tf.Tensor(\n",
            "[[1 1 1]\n",
            " [1 1 1]], shape=(2, 3), dtype=int32)\n"
          ]
        }
      ]
    },
    {
      "cell_type": "code",
      "source": [
        "zeroz=tf.zeros([3,4],tf.int32)\n",
        "print(zeroz)"
      ],
      "metadata": {
        "colab": {
          "base_uri": "https://localhost:8080/"
        },
        "id": "K0lEYeagl5dM",
        "outputId": "05573e61-1064-4ccd-ee8d-18429d52dcf9"
      },
      "execution_count": null,
      "outputs": [
        {
          "output_type": "stream",
          "name": "stdout",
          "text": [
            "tf.Tensor(\n",
            "[[0 0 0 0]\n",
            " [0 0 0 0]\n",
            " [0 0 0 0]], shape=(3, 4), dtype=int32)\n"
          ]
        }
      ]
    },
    {
      "cell_type": "code",
      "source": [
        "print(tf.shape(zeroz))"
      ],
      "metadata": {
        "colab": {
          "base_uri": "https://localhost:8080/"
        },
        "id": "ld2XAVwSml4T",
        "outputId": "16557db7-5cf6-4511-ced4-53d6f8e0af57"
      },
      "execution_count": null,
      "outputs": [
        {
          "output_type": "stream",
          "name": "stdout",
          "text": [
            "tf.Tensor([3 4], shape=(2,), dtype=int32)\n"
          ]
        }
      ]
    },
    {
      "cell_type": "markdown",
      "source": [
        "**Random**"
      ],
      "metadata": {
        "id": "6jADbdfrnDKP"
      }
    },
    {
      "cell_type": "code",
      "source": [
        "\"\"\"\n",
        "tf.random.normal(\n",
        "    shape,\n",
        "    mean=0.0,\n",
        "    stddev=1.0,\n",
        "    dtype=tf.dtypes.float32,\n",
        "    seed=None,\n",
        "    name=None\n",
        ")\n",
        " \"\"\""
      ],
      "metadata": {
        "colab": {
          "base_uri": "https://localhost:8080/",
          "height": 35
        },
        "id": "CyKcwvOXnmmO",
        "outputId": "14405de9-f834-44cf-cf0d-395be8ffd658"
      },
      "execution_count": null,
      "outputs": [
        {
          "output_type": "execute_result",
          "data": {
            "text/plain": [
              "'\\ntf.random.normal(\\n    shape,\\n    mean=0.0,\\n    stddev=1.0,\\n    dtype=tf.dtypes.float32,\\n    seed=None,\\n    name=None\\n)\\n '"
            ],
            "application/vnd.google.colaboratory.intrinsic+json": {
              "type": "string"
            }
          },
          "metadata": {},
          "execution_count": 41
        }
      ]
    },
    {
      "cell_type": "code",
      "source": [
        "tf.random.normal(\n",
        "    [2,3],\n",
        "    mean=0.0,\n",
        "    stddev=1.0,\n",
        "    dtype=tf.dtypes.float32,\n",
        "    seed=None,\n",
        "    name=None\n",
        ")"
      ],
      "metadata": {
        "colab": {
          "base_uri": "https://localhost:8080/"
        },
        "id": "_bGfsCoem8gK",
        "outputId": "294b739c-5298-4159-e2e5-c2507eaa8522"
      },
      "execution_count": null,
      "outputs": [
        {
          "output_type": "execute_result",
          "data": {
            "text/plain": [
              "<tf.Tensor: shape=(2, 3), dtype=float32, numpy=\n",
              "array([[ 0.892274  , -0.06854755, -0.45444527],\n",
              "       [-1.026941  , -1.8718371 , -0.2567551 ]], dtype=float32)>"
            ]
          },
          "metadata": {},
          "execution_count": 37
        }
      ]
    },
    {
      "cell_type": "code",
      "source": [
        "tf.random.uniform([3,3],\n",
        "                  minval=0,\n",
        "                  maxval=1,\n",
        "                  dtype=tf.dtypes.float32,\n",
        "                  seed=None,\n",
        "                  name=None)"
      ],
      "metadata": {
        "colab": {
          "base_uri": "https://localhost:8080/"
        },
        "id": "Km67xVG9naGg",
        "outputId": "c17a4320-e91b-4e4f-c673-9bda9e8aea9a"
      },
      "execution_count": null,
      "outputs": [
        {
          "output_type": "execute_result",
          "data": {
            "text/plain": [
              "<tf.Tensor: shape=(3, 3), dtype=float32, numpy=\n",
              "array([[0.52294445, 0.81186056, 0.69279814],\n",
              "       [0.05338955, 0.64232063, 0.09153891],\n",
              "       [0.78649545, 0.48432827, 0.1665535 ]], dtype=float32)>"
            ]
          },
          "metadata": {},
          "execution_count": 39
        }
      ]
    },
    {
      "cell_type": "markdown",
      "source": [
        "https://www.acsu.buffalo.edu/~adamcunn/probability/binomial.html <br>\n",
        "choose binomial from the bar and change"
      ],
      "metadata": {
        "id": "FhS3_aaVofp0"
      }
    },
    {
      "cell_type": "code",
      "source": [
        "tf.random.set_seed(5)\n",
        "print(tf.random.uniform(shape=[3,],maxval=5,dtype=tf.int32,seed=10))\n",
        "\n",
        "print(tf.random.uniform(shape=[3,],maxval=5,dtype=tf.int32,seed=10))\n",
        "\n",
        "print(tf.random.uniform(shape=[3,],maxval=5,dtype=tf.int32,seed=10))\n",
        "\n",
        "print(tf.random.uniform(shape=[3,],maxval=5,dtype=tf.int32,seed=10))"
      ],
      "metadata": {
        "colab": {
          "base_uri": "https://localhost:8080/"
        },
        "id": "2-QVWVokoAQg",
        "outputId": "af8bd203-d8cf-47a7-8a6c-cb387e08d254"
      },
      "execution_count": null,
      "outputs": [
        {
          "output_type": "stream",
          "name": "stdout",
          "text": [
            "tf.Tensor([4 3 1], shape=(3,), dtype=int32)\n",
            "tf.Tensor([4 3 2], shape=(3,), dtype=int32)\n",
            "tf.Tensor([1 1 1], shape=(3,), dtype=int32)\n",
            "tf.Tensor([1 3 3], shape=(3,), dtype=int32)\n"
          ]
        }
      ]
    },
    {
      "cell_type": "code",
      "source": [
        "tf.random.set_seed(5)\n",
        "print(tf.random.uniform(shape=[3,],maxval=5,dtype=tf.int32,seed=10))\n",
        "\n",
        "print(tf.random.uniform(shape=[3,],maxval=5,dtype=tf.int32,seed=10))\n",
        "\n",
        "print(tf.random.uniform(shape=[3,],maxval=5,dtype=tf.int32,seed=10))\n",
        "\n",
        "print(tf.random.uniform(shape=[3,],maxval=5,dtype=tf.int32,seed=10))"
      ],
      "metadata": {
        "colab": {
          "base_uri": "https://localhost:8080/"
        },
        "id": "-yLigJHPwZkL",
        "outputId": "add64852-478c-45e1-8948-09b02cc6b902"
      },
      "execution_count": null,
      "outputs": [
        {
          "output_type": "stream",
          "name": "stdout",
          "text": [
            "tf.Tensor([4 3 1], shape=(3,), dtype=int32)\n",
            "tf.Tensor([4 3 2], shape=(3,), dtype=int32)\n",
            "tf.Tensor([1 1 1], shape=(3,), dtype=int32)\n",
            "tf.Tensor([1 3 3], shape=(3,), dtype=int32)\n"
          ]
        }
      ]
    },
    {
      "cell_type": "code",
      "source": [
        "#indexing\n",
        "ten=tf.constant([3,2,5,6,74,2,2])\n",
        "print(ten[0:4])"
      ],
      "metadata": {
        "colab": {
          "base_uri": "https://localhost:8080/"
        },
        "id": "d1yDQvduww-3",
        "outputId": "b38ee04e-68b6-4ae1-d67a-243336eedc0b"
      },
      "execution_count": null,
      "outputs": [
        {
          "output_type": "stream",
          "name": "stdout",
          "text": [
            "tf.Tensor([3 2 5 6], shape=(4,), dtype=int32)\n"
          ]
        }
      ]
    },
    {
      "cell_type": "code",
      "source": [
        "#range\n",
        "print(tf.range(2,6))"
      ],
      "metadata": {
        "colab": {
          "base_uri": "https://localhost:8080/"
        },
        "id": "To6_g7naxMiH",
        "outputId": "3536e10d-b879-4418-f250-48809524bc1c"
      },
      "execution_count": null,
      "outputs": [
        {
          "output_type": "stream",
          "name": "stdout",
          "text": [
            "tf.Tensor([2 3 4 5], shape=(4,), dtype=int32)\n"
          ]
        }
      ]
    },
    {
      "cell_type": "code",
      "source": [
        "#abs\n",
        "tf.math.abs(-12.3)"
      ],
      "metadata": {
        "colab": {
          "base_uri": "https://localhost:8080/"
        },
        "id": "aCqoXM0qxR2G",
        "outputId": "46fa673e-54ae-4e4a-c4a9-0390e82a897e"
      },
      "execution_count": null,
      "outputs": [
        {
          "output_type": "execute_result",
          "data": {
            "text/plain": [
              "<tf.Tensor: shape=(), dtype=float32, numpy=12.3>"
            ]
          },
          "metadata": {},
          "execution_count": 48
        }
      ]
    },
    {
      "cell_type": "code",
      "source": [
        "tf.abs(12-4.3j)"
      ],
      "metadata": {
        "colab": {
          "base_uri": "https://localhost:8080/"
        },
        "id": "W4wb0E0s1efi",
        "outputId": "369c9c75-1bee-49ca-f99e-6ec6662e08f0"
      },
      "execution_count": null,
      "outputs": [
        {
          "output_type": "execute_result",
          "data": {
            "text/plain": [
              "<tf.Tensor: shape=(), dtype=float64, numpy=12.747156545677157>"
            ]
          },
          "metadata": {},
          "execution_count": 50
        }
      ]
    },
    {
      "cell_type": "code",
      "source": [
        "import math\n",
        "tf.sqrt((12*12)+(4.3*4.3))"
      ],
      "metadata": {
        "colab": {
          "base_uri": "https://localhost:8080/"
        },
        "id": "EbmdWKqZ1r_Q",
        "outputId": "3e4ca8a5-4935-4136-f449-e7fce8e24d0e"
      },
      "execution_count": 85,
      "outputs": [
        {
          "output_type": "execute_result",
          "data": {
            "text/plain": [
              "<tf.Tensor: shape=(), dtype=float32, numpy=12.747157>"
            ]
          },
          "metadata": {},
          "execution_count": 85
        }
      ]
    },
    {
      "cell_type": "code",
      "source": [],
      "metadata": {
        "id": "1HvKOJR9BA_0"
      },
      "execution_count": null,
      "outputs": []
    },
    {
      "cell_type": "markdown",
      "source": [
        "**Math operations**\n",
        "\n",
        "1.   add\n",
        "2.   mul .\n",
        "3.    ....\n",
        "\n",
        "\n"
      ],
      "metadata": {
        "id": "GL2abi_sA-Fw"
      }
    },
    {
      "cell_type": "code",
      "source": [
        "x=tf.constant([[2,20,30,3,126],\n",
        "                      [3,11,160,1,8],\n",
        "                      [14,34,56,7,70]])\n",
        "print(tf.math.argmax(x))"
      ],
      "metadata": {
        "colab": {
          "base_uri": "https://localhost:8080/"
        },
        "id": "QAGkgucIBFw1",
        "outputId": "9222e4d3-e36a-4f3d-da63-8f1e1a003b5a"
      },
      "execution_count": 65,
      "outputs": [
        {
          "output_type": "stream",
          "name": "stdout",
          "text": [
            "tf.Tensor([2 2 1 2 0], shape=(5,), dtype=int64)\n"
          ]
        }
      ]
    },
    {
      "cell_type": "code",
      "source": [
        "print(tf.math.argmin(x))"
      ],
      "metadata": {
        "colab": {
          "base_uri": "https://localhost:8080/"
        },
        "id": "dYRYW74mByQX",
        "outputId": "e1ce3bd6-e070-4779-9775-e0e563f9bae3"
      },
      "execution_count": 66,
      "outputs": [
        {
          "output_type": "stream",
          "name": "stdout",
          "text": [
            "tf.Tensor([0 1 0 1 1], shape=(5,), dtype=int64)\n"
          ]
        }
      ]
    },
    {
      "cell_type": "code",
      "source": [
        "print(tf.math.argmax(x,axis=0))"
      ],
      "metadata": {
        "colab": {
          "base_uri": "https://localhost:8080/"
        },
        "id": "mY_O17MRCJXy",
        "outputId": "b7d6ec2b-2667-4208-ccee-9361e41ec55c"
      },
      "execution_count": 71,
      "outputs": [
        {
          "output_type": "stream",
          "name": "stdout",
          "text": [
            "tf.Tensor([2 2 1 2 0], shape=(5,), dtype=int64)\n"
          ]
        }
      ]
    },
    {
      "cell_type": "code",
      "source": [
        "print(tf.math.argmin(x,1))"
      ],
      "metadata": {
        "colab": {
          "base_uri": "https://localhost:8080/"
        },
        "id": "ypKvUPILCTK0",
        "outputId": "b0afa0f5-9d9f-48f8-bdc8-1cfdcaa640ca"
      },
      "execution_count": 72,
      "outputs": [
        {
          "output_type": "stream",
          "name": "stdout",
          "text": [
            "tf.Tensor([0 3 3], shape=(3,), dtype=int64)\n"
          ]
        }
      ]
    },
    {
      "cell_type": "code",
      "source": [
        "print(tf.math.argmin(x,0))"
      ],
      "metadata": {
        "colab": {
          "base_uri": "https://localhost:8080/"
        },
        "id": "spO77GmsCYB3",
        "outputId": "81f37e0e-fcbb-485a-ec81-4d8fe82a0a0e"
      },
      "execution_count": 73,
      "outputs": [
        {
          "output_type": "stream",
          "name": "stdout",
          "text": [
            "tf.Tensor([0 1 0 1 1], shape=(5,), dtype=int64)\n"
          ]
        }
      ]
    },
    {
      "cell_type": "code",
      "source": [
        " #redice sum will find sum\n",
        " ten=tf.constant([[1,2,0],\n",
        "  [3,5,-1],\n",
        "   [1,5,6],\n",
        "    [2,3,4]])\n",
        " print(tf.math.reduce_sum(ten,axis=None,keepdims=False,name=None))"
      ],
      "metadata": {
        "colab": {
          "base_uri": "https://localhost:8080/"
        },
        "id": "JpEJasrmC8JB",
        "outputId": "8a3225ee-d8de-4420-c34b-0e7957eb3d39"
      },
      "execution_count": 83,
      "outputs": [
        {
          "output_type": "stream",
          "name": "stdout",
          "text": [
            "tf.Tensor(31, shape=(), dtype=int32)\n"
          ]
        }
      ]
    },
    {
      "cell_type": "code",
      "source": [
        " print(tf.math.reduce_min(ten,axis=None,keepdims=False,name=None))"
      ],
      "metadata": {
        "colab": {
          "base_uri": "https://localhost:8080/"
        },
        "id": "nfeQuLtuDnFY",
        "outputId": "c133f7f7-4b6f-45a3-bc96-3beac31fe8a4"
      },
      "execution_count": 76,
      "outputs": [
        {
          "output_type": "stream",
          "name": "stdout",
          "text": [
            "tf.Tensor(-1, shape=(), dtype=int32)\n"
          ]
        }
      ]
    },
    {
      "cell_type": "code",
      "source": [
        " print(tf.math.reduce_max(ten,axis=None,keepdims=False,name=None))"
      ],
      "metadata": {
        "colab": {
          "base_uri": "https://localhost:8080/"
        },
        "id": "4J22MQm4EUCi",
        "outputId": "2ff6d1e7-d13f-4b12-8ee7-c5a2ccd8df3c"
      },
      "execution_count": 77,
      "outputs": [
        {
          "output_type": "stream",
          "name": "stdout",
          "text": [
            "tf.Tensor(6, shape=(), dtype=int32)\n"
          ]
        }
      ]
    },
    {
      "cell_type": "code",
      "source": [
        "print(tf.math.reduce_sum(ten,axis=0,keepdims=False,name=None))"
      ],
      "metadata": {
        "colab": {
          "base_uri": "https://localhost:8080/"
        },
        "id": "1TR1R4Y6EXIN",
        "outputId": "432fa21a-b398-4752-9340-42bef7c6e3ee"
      },
      "execution_count": 78,
      "outputs": [
        {
          "output_type": "stream",
          "name": "stdout",
          "text": [
            "tf.Tensor([ 7 15  9], shape=(3,), dtype=int32)\n"
          ]
        }
      ]
    },
    {
      "cell_type": "code",
      "source": [
        "print(tf.math.reduce_sum(ten,axis=1,keepdims=False,name=None))"
      ],
      "metadata": {
        "colab": {
          "base_uri": "https://localhost:8080/"
        },
        "id": "CUMVKuUdEepI",
        "outputId": "8a30ec75-be9e-4f3d-e7fb-c487513a9da6"
      },
      "execution_count": 79,
      "outputs": [
        {
          "output_type": "stream",
          "name": "stdout",
          "text": [
            "tf.Tensor([ 3  7 12  9], shape=(4,), dtype=int32)\n"
          ]
        }
      ]
    },
    {
      "cell_type": "code",
      "source": [
        "tens=tf.constant([[1,2,-0],\n",
        " [3,5,100]\n",
        " ,[1,5,6],\n",
        "  [2,3,8]],dtype=tf.float16)\n",
        "print(tf.math.reduce_std(tens,axis=0,keepdims=True,name=None))"
      ],
      "metadata": {
        "colab": {
          "base_uri": "https://localhost:8080/"
        },
        "id": "-9-me_UQEhIw",
        "outputId": "48ac444d-df88-40e5-8d04-214ebe810e75"
      },
      "execution_count": 87,
      "outputs": [
        {
          "output_type": "stream",
          "name": "stdout",
          "text": [
            "tf.Tensor([[ 0.829  1.299 41.38 ]], shape=(1, 3), dtype=float16)\n"
          ]
        }
      ]
    },
    {
      "cell_type": "code",
      "source": [
        "tf.math.top_k(tens,k=1)"
      ],
      "metadata": {
        "colab": {
          "base_uri": "https://localhost:8080/"
        },
        "id": "xZ1fEKvPRw6e",
        "outputId": "b27fbe89-cfbc-4c72-ee0e-22697273054f"
      },
      "execution_count": 88,
      "outputs": [
        {
          "output_type": "execute_result",
          "data": {
            "text/plain": [
              "TopKV2(values=<tf.Tensor: shape=(4, 1), dtype=float16, numpy=\n",
              "array([[  2.],\n",
              "       [100.],\n",
              "       [  6.],\n",
              "       [  8.]], dtype=float16)>, indices=<tf.Tensor: shape=(4, 1), dtype=int32, numpy=\n",
              "array([[1],\n",
              "       [2],\n",
              "       [2],\n",
              "       [2]], dtype=int32)>)"
            ]
          },
          "metadata": {},
          "execution_count": 88
        }
      ]
    },
    {
      "cell_type": "markdown",
      "source": [
        "\n",
        "\n",
        "\n",
        "1.   tf.linalg.matmul()\n",
        "2.   @ used as operator for matmul\n",
        "3.   tf.transpose\n",
        "4.   x.T   #transpose\n",
        "5.   tf.linalg.adjoint\n",
        "6.   \n",
        "\n"
      ],
      "metadata": {
        "id": "n1JmmmTMTNDe"
      }
    },
    {
      "cell_type": "code",
      "source": [
        "#band part m,n indexes\n",
        "#num_lower <0 || m-n <= num_lower || num_upper<0  || n-m <=num_upper\n",
        "inp=tf.constant([[0,1,2,3],\n",
        "                 [-1,0,1,2],\n",
        "                 [-2,-1,0,1],\n",
        "                 [-3,-2,-1,0]])\n",
        "tf.linalg.band_part(inp,1,-1)"
      ],
      "metadata": {
        "colab": {
          "base_uri": "https://localhost:8080/"
        },
        "id": "3g9BEZRUTOdi",
        "outputId": "26e7b72d-398a-428a-a6db-bc46a0d7a181"
      },
      "execution_count": 89,
      "outputs": [
        {
          "output_type": "execute_result",
          "data": {
            "text/plain": [
              "<tf.Tensor: shape=(4, 4), dtype=int32, numpy=\n",
              "array([[ 0,  1,  2,  3],\n",
              "       [-1,  0,  1,  2],\n",
              "       [ 0, -1,  0,  1],\n",
              "       [ 0,  0, -1,  0]], dtype=int32)>"
            ]
          },
          "metadata": {},
          "execution_count": 89
        }
      ]
    },
    {
      "cell_type": "code",
      "source": [
        "tf.linalg.band_part(inp,2,1)"
      ],
      "metadata": {
        "colab": {
          "base_uri": "https://localhost:8080/"
        },
        "id": "dhKaC1_VUya8",
        "outputId": "b4755215-a87a-4935-f962-ac67e8d107fa"
      },
      "execution_count": 90,
      "outputs": [
        {
          "output_type": "execute_result",
          "data": {
            "text/plain": [
              "<tf.Tensor: shape=(4, 4), dtype=int32, numpy=\n",
              "array([[ 0,  1,  0,  0],\n",
              "       [-1,  0,  1,  0],\n",
              "       [-2, -1,  0,  1],\n",
              "       [ 0, -2, -1,  0]], dtype=int32)>"
            ]
          },
          "metadata": {},
          "execution_count": 90
        }
      ]
    },
    {
      "cell_type": "markdown",
      "source": [
        "\n",
        "\n",
        "1.   tf.linalg.cross\n",
        "2.   tf.linalg.det\n",
        "3.   tf.linalg.inv\n",
        "4.   tf.linalg.matrix_transpose\n",
        "5.   tf.linalg.svd  #singular value decomposition\n",
        "\n",
        "\n",
        "\n"
      ],
      "metadata": {
        "id": "sHlA_QYBaBpY"
      }
    },
    {
      "cell_type": "code",
      "source": [
        "#einsum\n",
        "a=np.array([[2,6,5,2],\n",
        "            [2,-2,2,3],\n",
        "            [1,5,4,0]])\n",
        "b=np.array([[2,9,0,3,0],\n",
        "            [3,6,8,-2,2],\n",
        "            [1,3,5,0,1],\n",
        "            [3,0,2,0,5]])\n",
        "print(a.shape)\n",
        "print(b.shape)\n",
        "print(\"------\")\n",
        "print(np.matmul(a,b))\n",
        "print(\"------\")\n",
        "print(np.einsum(\"ij,jk->ik\",a,b))"
      ],
      "metadata": {
        "colab": {
          "base_uri": "https://localhost:8080/"
        },
        "id": "mboURXn6VD06",
        "outputId": "7b17436d-ae47-4254-9f6b-74253ce6b234"
      },
      "execution_count": 94,
      "outputs": [
        {
          "output_type": "stream",
          "name": "stdout",
          "text": [
            "(3, 4)\n",
            "(4, 5)\n",
            "------\n",
            "[[33 69 77 -6 27]\n",
            " [ 9 12  0 10 13]\n",
            " [21 51 60 -7 14]]\n",
            "------\n",
            "[[33 69 77 -6 27]\n",
            " [ 9 12  0 10 13]\n",
            " [21 51 60 -7 14]]\n"
          ]
        }
      ]
    },
    {
      "cell_type": "markdown",
      "source": [
        "**expand dims**"
      ],
      "metadata": {
        "id": "oS5ufmz8fENN"
      }
    },
    {
      "cell_type": "code",
      "source": [
        "ten_three_d=tf.constant([[[1,2,0],\n",
        "                          [3,5,-1]],\n",
        "                         [[10,2,0],\n",
        "                          [1,0,2]],\n",
        "                         [[5,8,0],\n",
        "                          [2,7,0]],\n",
        "                         [[2,1,9],\n",
        "                          [4,-3,32]]\n",
        "                         ])\n",
        "print(ten_three_d)\n"
      ],
      "metadata": {
        "colab": {
          "base_uri": "https://localhost:8080/"
        },
        "id": "d1pdrCU-duKE",
        "outputId": "41f765bc-075e-482c-c030-efe804439070"
      },
      "execution_count": 97,
      "outputs": [
        {
          "output_type": "stream",
          "name": "stdout",
          "text": [
            "tf.Tensor(\n",
            "[[[ 1  2  0]\n",
            "  [ 3  5 -1]]\n",
            "\n",
            " [[10  2  0]\n",
            "  [ 1  0  2]]\n",
            "\n",
            " [[ 5  8  0]\n",
            "  [ 2  7  0]]\n",
            "\n",
            " [[ 2  1  9]\n",
            "  [ 4 -3 32]]], shape=(4, 2, 3), dtype=int32)\n"
          ]
        }
      ]
    },
    {
      "cell_type": "code",
      "source": [
        "print(tf.expand_dims(ten_three_d,axis=0).shape)"
      ],
      "metadata": {
        "colab": {
          "base_uri": "https://localhost:8080/"
        },
        "id": "-3bIISx4ecb4",
        "outputId": "dd4ee07c-3949-4986-e275-d0ab986bea5c"
      },
      "execution_count": 98,
      "outputs": [
        {
          "output_type": "stream",
          "name": "stdout",
          "text": [
            "(1, 4, 2, 3)\n"
          ]
        }
      ]
    },
    {
      "cell_type": "code",
      "source": [
        "x=tf.constant([[2,3,4,5]])\n",
        "print(x.shape)\n",
        "print(tf.expand_dims(x,axis=0))"
      ],
      "metadata": {
        "colab": {
          "base_uri": "https://localhost:8080/"
        },
        "id": "JOWHqwnpgMU5",
        "outputId": "1d733f69-f3e4-4fd3-951f-d859dc1eb21e"
      },
      "execution_count": 109,
      "outputs": [
        {
          "output_type": "stream",
          "name": "stdout",
          "text": [
            "(1, 4)\n",
            "tf.Tensor([[[2 3 4 5]]], shape=(1, 1, 4), dtype=int32)\n"
          ]
        }
      ]
    },
    {
      "cell_type": "markdown",
      "source": [
        "**squeeze**"
      ],
      "metadata": {
        "id": "Hl_f4chhguFT"
      }
    },
    {
      "cell_type": "code",
      "source": [
        "exp_x=tf.expand_dims(x,axis=0)\n",
        "print(exp_x)"
      ],
      "metadata": {
        "colab": {
          "base_uri": "https://localhost:8080/"
        },
        "id": "QUBpoZmjgkqb",
        "outputId": "c1cccd16-1fe9-4318-c77b-d86f9ce88bb3"
      },
      "execution_count": 110,
      "outputs": [
        {
          "output_type": "stream",
          "name": "stdout",
          "text": [
            "tf.Tensor([[[2 3 4 5]]], shape=(1, 1, 4), dtype=int32)\n"
          ]
        }
      ]
    },
    {
      "cell_type": "code",
      "source": [
        "sq=tf.squeeze(exp_x,axis=None,name=None)\n",
        "print(sq)"
      ],
      "metadata": {
        "colab": {
          "base_uri": "https://localhost:8080/"
        },
        "id": "7UgXQiXsg2Ax",
        "outputId": "a489a612-ad7f-4df1-dec4-f22a551b4743"
      },
      "execution_count": 106,
      "outputs": [
        {
          "output_type": "stream",
          "name": "stdout",
          "text": [
            "tf.Tensor([2 3 4 5], shape=(4,), dtype=int32)\n"
          ]
        }
      ]
    },
    {
      "cell_type": "code",
      "source": [
        "sq=tf.squeeze(exp_x,axis=0,name=None)\n",
        "print(sq)"
      ],
      "metadata": {
        "colab": {
          "base_uri": "https://localhost:8080/"
        },
        "id": "Q7oEe7xbhJIP",
        "outputId": "0bb496a3-4225-4740-8164-502be650ef61"
      },
      "execution_count": 107,
      "outputs": [
        {
          "output_type": "stream",
          "name": "stdout",
          "text": [
            "tf.Tensor([[2 3 4 5]], shape=(1, 4), dtype=int32)\n"
          ]
        }
      ]
    },
    {
      "cell_type": "code",
      "source": [],
      "metadata": {
        "colab": {
          "base_uri": "https://localhost:8080/"
        },
        "id": "prkX1z13hYjt",
        "outputId": "676bcdf4-8dcb-4477-cac1-8a99d17a327e"
      },
      "execution_count": 111,
      "outputs": [
        {
          "output_type": "stream",
          "name": "stdout",
          "text": [
            "tf.Tensor([[2 3 4 5]], shape=(1, 4), dtype=int32)\n"
          ]
        }
      ]
    },
    {
      "cell_type": "markdown",
      "source": [
        "**reshape**"
      ],
      "metadata": {
        "id": "VwwHmrYUiD4X"
      }
    },
    {
      "cell_type": "code",
      "source": [
        "print(x)"
      ],
      "metadata": {
        "colab": {
          "base_uri": "https://localhost:8080/"
        },
        "id": "chw-stc1hbHF",
        "outputId": "d96fb757-c08f-435b-d0d2-f6b643cccd2d"
      },
      "execution_count": 112,
      "outputs": [
        {
          "output_type": "stream",
          "name": "stdout",
          "text": [
            "tf.Tensor([[2 3 4 5]], shape=(1, 4), dtype=int32)\n"
          ]
        }
      ]
    },
    {
      "cell_type": "code",
      "source": [
        "print(tf.reshape(x,[4,]))"
      ],
      "metadata": {
        "colab": {
          "base_uri": "https://localhost:8080/"
        },
        "id": "JJthUROqiCp5",
        "outputId": "fac84fff-bc06-4ffc-9824-3003ee069fdc"
      },
      "execution_count": 113,
      "outputs": [
        {
          "output_type": "stream",
          "name": "stdout",
          "text": [
            "tf.Tensor([2 3 4 5], shape=(4,), dtype=int32)\n"
          ]
        }
      ]
    },
    {
      "cell_type": "code",
      "source": [
        "## tf.concat\n",
        "\n",
        "t1=[[1,2,3],[4,5,6]]\n",
        "t2=[[7,8,9],[10,11,12]]"
      ],
      "metadata": {
        "id": "vhv8l7y2iTWB"
      },
      "execution_count": 115,
      "outputs": []
    },
    {
      "cell_type": "code",
      "source": [
        "print(tf.constant(t1))"
      ],
      "metadata": {
        "colab": {
          "base_uri": "https://localhost:8080/"
        },
        "id": "xnwBEu4IiyuH",
        "outputId": "c1cb8133-a7c1-404d-9470-76c70b3dff6f"
      },
      "execution_count": 116,
      "outputs": [
        {
          "output_type": "stream",
          "name": "stdout",
          "text": [
            "tf.Tensor(\n",
            "[[1 2 3]\n",
            " [4 5 6]], shape=(2, 3), dtype=int32)\n"
          ]
        }
      ]
    },
    {
      "cell_type": "code",
      "source": [
        "tf.concat([t1,t2],axis=0)"
      ],
      "metadata": {
        "colab": {
          "base_uri": "https://localhost:8080/"
        },
        "id": "6Z9qg7Kdigpf",
        "outputId": "4072d760-5798-43a0-cbc1-60338920645d"
      },
      "execution_count": 117,
      "outputs": [
        {
          "output_type": "execute_result",
          "data": {
            "text/plain": [
              "<tf.Tensor: shape=(4, 3), dtype=int32, numpy=\n",
              "array([[ 1,  2,  3],\n",
              "       [ 4,  5,  6],\n",
              "       [ 7,  8,  9],\n",
              "       [10, 11, 12]], dtype=int32)>"
            ]
          },
          "metadata": {},
          "execution_count": 117
        }
      ]
    },
    {
      "cell_type": "code",
      "source": [
        "tf.stack([t1,t2],axis=0)"
      ],
      "metadata": {
        "colab": {
          "base_uri": "https://localhost:8080/"
        },
        "id": "ArgRggB7jEkU",
        "outputId": "37b1eb9b-8fe1-4c2c-8624-8f722ee3b661"
      },
      "execution_count": 118,
      "outputs": [
        {
          "output_type": "execute_result",
          "data": {
            "text/plain": [
              "<tf.Tensor: shape=(2, 2, 3), dtype=int32, numpy=\n",
              "array([[[ 1,  2,  3],\n",
              "        [ 4,  5,  6]],\n",
              "\n",
              "       [[ 7,  8,  9],\n",
              "        [10, 11, 12]]], dtype=int32)>"
            ]
          },
          "metadata": {},
          "execution_count": 118
        }
      ]
    },
    {
      "cell_type": "code",
      "source": [
        "tf.stack([t1,t2],axis=1)"
      ],
      "metadata": {
        "colab": {
          "base_uri": "https://localhost:8080/"
        },
        "id": "x4NrTjCKjXl6",
        "outputId": "d8a2f3f9-e98a-4117-acf8-7bd47a5472d3"
      },
      "execution_count": 119,
      "outputs": [
        {
          "output_type": "execute_result",
          "data": {
            "text/plain": [
              "<tf.Tensor: shape=(2, 2, 3), dtype=int32, numpy=\n",
              "array([[[ 1,  2,  3],\n",
              "        [ 7,  8,  9]],\n",
              "\n",
              "       [[ 4,  5,  6],\n",
              "        [10, 11, 12]]], dtype=int32)>"
            ]
          },
          "metadata": {},
          "execution_count": 119
        }
      ]
    },
    {
      "cell_type": "markdown",
      "source": [
        "**padding**"
      ],
      "metadata": {
        "id": "8dCu8yFxjswR"
      }
    },
    {
      "cell_type": "code",
      "source": [
        "t=tf.constant([[1,2,3],\n",
        "               [4,5,6]])\n",
        "paddings=tf.constant([[1,5],\n",
        "                      [2,3]])\n",
        "tf.pad(t,paddings,\"CONSTANT\",constant_values=0)\n",
        "#one 0 above,five 0 below ,two 0 left,three 0 right"
      ],
      "metadata": {
        "colab": {
          "base_uri": "https://localhost:8080/"
        },
        "id": "RMYmV6aKjbAT",
        "outputId": "5f1ed8d3-e282-47a6-dfb7-00d068c8726b"
      },
      "execution_count": 120,
      "outputs": [
        {
          "output_type": "execute_result",
          "data": {
            "text/plain": [
              "<tf.Tensor: shape=(8, 8), dtype=int32, numpy=\n",
              "array([[0, 0, 0, 0, 0, 0, 0, 0],\n",
              "       [0, 0, 1, 2, 3, 0, 0, 0],\n",
              "       [0, 0, 4, 5, 6, 0, 0, 0],\n",
              "       [0, 0, 0, 0, 0, 0, 0, 0],\n",
              "       [0, 0, 0, 0, 0, 0, 0, 0],\n",
              "       [0, 0, 0, 0, 0, 0, 0, 0],\n",
              "       [0, 0, 0, 0, 0, 0, 0, 0],\n",
              "       [0, 0, 0, 0, 0, 0, 0, 0]], dtype=int32)>"
            ]
          },
          "metadata": {},
          "execution_count": 120
        }
      ]
    },
    {
      "cell_type": "markdown",
      "source": [
        " tf.gather is used to extract slices from a tensor based on specified indices. This can be particularly useful when you want to select specific elements or sub-tensors without reshaping or slicing the entire tensor.\n",
        "\n",
        " gather vs slicing\n",
        "tf.gather: Allows you to gather specific indices across any axis of a tensor. You can gather non-contiguous elements or entire rows, columns, or slices based on index values.\n",
        "Slicing: Primarily used for contiguous sub-tensors. You define a range of indices and extract elements in a straightforward way."
      ],
      "metadata": {
        "id": "CUollozfmHvL"
      }
    },
    {
      "cell_type": "code",
      "source": [
        "\n",
        "matrix = tf.constant([[10, 20, 30],\n",
        "                      [40, 50, 60],\n",
        "                      [70, 80, 90],\n",
        "                      [100, 110, 120]], dtype=tf.float32)\n",
        "\n",
        "indices = tf.constant([1, 3])  # We want to gather the 2nd and 4th rows\n",
        "\n",
        "# Use tf.gather to get the specified rows\n",
        "gathered_rows = tf.gather(matrix, indices)\n",
        "\n",
        "print(\"Original Matrix:\")\n",
        "print(matrix.numpy())\n",
        "print(\"\\nGathered Rows:\")\n",
        "print(gathered_rows.numpy())\n"
      ],
      "metadata": {
        "colab": {
          "base_uri": "https://localhost:8080/"
        },
        "id": "U9riBwqnlKje",
        "outputId": "55230ae2-77a4-4d59-9c3f-d5c6e51697b5"
      },
      "execution_count": 121,
      "outputs": [
        {
          "output_type": "stream",
          "name": "stdout",
          "text": [
            "Original Matrix:\n",
            "[[ 10.  20.  30.]\n",
            " [ 40.  50.  60.]\n",
            " [ 70.  80.  90.]\n",
            " [100. 110. 120.]]\n",
            "\n",
            "Gathered Rows:\n",
            "[[ 40.  50.  60.]\n",
            " [100. 110. 120.]]\n"
          ]
        }
      ]
    },
    {
      "cell_type": "markdown",
      "source": [
        "**Ragged tensors**\n",
        "\n",
        "TensorFlow is used to create ragged tensors, which are tensors with varying shapes or sizes along one or more axes. This is particularly useful for handling data that doesn't fit into a standard rectangular shape, such as lists of varying lengths"
      ],
      "metadata": {
        "id": "PYHWL4rRnOX7"
      }
    },
    {
      "cell_type": "code",
      "source": [
        "import tensorflow as tf\n",
        "\n",
        "# Creating a ragged tensor from nested lists\n",
        "ragged_tensor = tf.ragged.constant([[1, 2, 3], [4, 5], [6]])\n",
        "\n",
        "print(\"Ragged Tensor:\")\n",
        "print(ragged_tensor)\n",
        "print(\"\\nShape:\", ragged_tensor.shape)\n"
      ],
      "metadata": {
        "colab": {
          "base_uri": "https://localhost:8080/"
        },
        "id": "1gUoBCaEmS6h",
        "outputId": "2eaf1631-539d-413a-9060-ddc3e0362d26"
      },
      "execution_count": 122,
      "outputs": [
        {
          "output_type": "stream",
          "name": "stdout",
          "text": [
            "Ragged Tensor:\n",
            "<tf.RaggedTensor [[1, 2, 3], [4, 5], [6]]>\n",
            "\n",
            "Shape: (3, None)\n"
          ]
        }
      ]
    },
    {
      "cell_type": "markdown",
      "source": [
        "**ragged boolean mask**"
      ],
      "metadata": {
        "id": "0JSfltYGoV9u"
      }
    },
    {
      "cell_type": "code",
      "source": [
        "import tensorflow as tf\n",
        "\n",
        "# Create a ragged tensor\n",
        "ragged_tensor = tf.ragged.constant([[1, 2, 3], [4, 5], [6, 7, 8]])\n",
        "\n",
        "print(\"Original Ragged Tensor:\")\n",
        "print(ragged_tensor)\n",
        "\n",
        "# Create a boolean mask\n",
        "mask = tf.ragged.constant([[True, False, True], [False, True], [True, True, False]])\n",
        "\n",
        "# Apply the boolean mask\n",
        "filtered_tensor = tf.ragged.boolean_mask(ragged_tensor, mask)\n",
        "\n",
        "print(\"\\nFiltered Ragged Tensor:\")\n",
        "print(filtered_tensor)\n"
      ],
      "metadata": {
        "colab": {
          "base_uri": "https://localhost:8080/"
        },
        "id": "cAh0hb3Jnkp4",
        "outputId": "3036a523-be5b-4d64-ff0e-0740e066f77a"
      },
      "execution_count": 123,
      "outputs": [
        {
          "output_type": "stream",
          "name": "stdout",
          "text": [
            "Original Ragged Tensor:\n",
            "<tf.RaggedTensor [[1, 2, 3], [4, 5], [6, 7, 8]]>\n",
            "\n",
            "Filtered Ragged Tensor:\n",
            "<tf.RaggedTensor [[1, 3], [5], [6, 7]]>\n"
          ]
        }
      ]
    },
    {
      "cell_type": "markdown",
      "source": [
        "**sparse tensors**"
      ],
      "metadata": {
        "id": "EplT4Y31o1Zd"
      }
    },
    {
      "cell_type": "code",
      "source": [
        "tens=tf.sparse.SparseTensor(\n",
        "    indices=[[1,1],[3,4]],values=[11,56],dense_shape=[5,6]\n",
        ")\n"
      ],
      "metadata": {
        "id": "9WGqfHK-o08g"
      },
      "execution_count": 124,
      "outputs": []
    },
    {
      "cell_type": "code",
      "source": [
        "tens"
      ],
      "metadata": {
        "colab": {
          "base_uri": "https://localhost:8080/"
        },
        "id": "dp-9CJ0oobIP",
        "outputId": "efbbd9eb-6921-4e04-db1e-c462ac2fbf1a"
      },
      "execution_count": 125,
      "outputs": [
        {
          "output_type": "execute_result",
          "data": {
            "text/plain": [
              "SparseTensor(indices=tf.Tensor(\n",
              "[[1 1]\n",
              " [3 4]], shape=(2, 2), dtype=int64), values=tf.Tensor([11 56], shape=(2,), dtype=int32), dense_shape=tf.Tensor([5 6], shape=(2,), dtype=int64))"
            ]
          },
          "metadata": {},
          "execution_count": 125
        }
      ]
    },
    {
      "cell_type": "code",
      "source": [
        "print(tf.sparse.to_dense(tens))"
      ],
      "metadata": {
        "colab": {
          "base_uri": "https://localhost:8080/"
        },
        "id": "kZe_eqfrpMf6",
        "outputId": "a6e9cc2a-7a11-4817-dff0-84e47673c97c"
      },
      "execution_count": 126,
      "outputs": [
        {
          "output_type": "stream",
          "name": "stdout",
          "text": [
            "tf.Tensor(\n",
            "[[ 0  0  0  0  0  0]\n",
            " [ 0 11  0  0  0  0]\n",
            " [ 0  0  0  0  0  0]\n",
            " [ 0  0  0  0 56  0]\n",
            " [ 0  0  0  0  0  0]], shape=(5, 6), dtype=int32)\n"
          ]
        }
      ]
    },
    {
      "cell_type": "markdown",
      "source": [
        "**strings**"
      ],
      "metadata": {
        "id": "Jwty0hf6pjfX"
      }
    },
    {
      "cell_type": "markdown",
      "source": [
        "\n",
        "\n",
        "1.   lower\n",
        "2.   upper\n",
        "\n"
      ],
      "metadata": {
        "id": "a22NehIPpyXQ"
      }
    },
    {
      "cell_type": "markdown",
      "source": [
        "**Variables**"
      ],
      "metadata": {
        "id": "MufgShMWp7az"
      }
    },
    {
      "cell_type": "code",
      "source": [
        "x=tf.constant([1,2])\n",
        "x_var=tf.Variable(x,name='var1')"
      ],
      "metadata": {
        "id": "lBuoOgbCp9xC"
      },
      "execution_count": 127,
      "outputs": []
    },
    {
      "cell_type": "code",
      "source": [
        "print(x_var)"
      ],
      "metadata": {
        "colab": {
          "base_uri": "https://localhost:8080/"
        },
        "id": "G-Eo3Xv5qTPb",
        "outputId": "0ded6847-77fd-45ae-cc4f-aebd38e6c7ff"
      },
      "execution_count": 128,
      "outputs": [
        {
          "output_type": "stream",
          "name": "stdout",
          "text": [
            "<tf.Variable 'var1:0' shape=(2,) dtype=int32, numpy=array([1, 2], dtype=int32)>\n"
          ]
        }
      ]
    },
    {
      "cell_type": "code",
      "source": [
        "x_var.assign([2,3])"
      ],
      "metadata": {
        "colab": {
          "base_uri": "https://localhost:8080/"
        },
        "id": "AcHt8yPBqWj3",
        "outputId": "4e5604cc-3f20-4654-dc72-03dbdd689f6e"
      },
      "execution_count": 129,
      "outputs": [
        {
          "output_type": "execute_result",
          "data": {
            "text/plain": [
              "<tf.Variable 'UnreadVariable' shape=(2,) dtype=int32, numpy=array([2, 3], dtype=int32)>"
            ]
          },
          "metadata": {},
          "execution_count": 129
        }
      ]
    },
    {
      "cell_type": "code",
      "source": [
        "print(x_var)"
      ],
      "metadata": {
        "colab": {
          "base_uri": "https://localhost:8080/"
        },
        "id": "CRnJYAzgqmpm",
        "outputId": "1bc107fa-bbf2-4080-f1a3-e183495551eb"
      },
      "execution_count": 131,
      "outputs": [
        {
          "output_type": "stream",
          "name": "stdout",
          "text": [
            "<tf.Variable 'var1:0' shape=(2,) dtype=int32, numpy=array([2, 3], dtype=int32)>\n"
          ]
        }
      ]
    },
    {
      "cell_type": "code",
      "source": [
        "x_var.assign_sub([1,1])\n",
        "x_var"
      ],
      "metadata": {
        "colab": {
          "base_uri": "https://localhost:8080/"
        },
        "id": "fo2Htxrwqoz0",
        "outputId": "7751bfb9-1647-403f-853b-3b1e2d486e97"
      },
      "execution_count": 132,
      "outputs": [
        {
          "output_type": "execute_result",
          "data": {
            "text/plain": [
              "<tf.Variable 'var1:0' shape=(2,) dtype=int32, numpy=array([1, 2], dtype=int32)>"
            ]
          },
          "metadata": {},
          "execution_count": 132
        }
      ]
    },
    {
      "cell_type": "code",
      "source": [
        "x_var.assign_add([1,1])\n",
        "x_var"
      ],
      "metadata": {
        "colab": {
          "base_uri": "https://localhost:8080/"
        },
        "id": "JRz1s4F4q2eJ",
        "outputId": "688fff19-1fa8-46cc-bc44-8a5144bee2f2"
      },
      "execution_count": 133,
      "outputs": [
        {
          "output_type": "execute_result",
          "data": {
            "text/plain": [
              "<tf.Variable 'var1:0' shape=(2,) dtype=int32, numpy=array([2, 3], dtype=int32)>"
            ]
          },
          "metadata": {},
          "execution_count": 133
        }
      ]
    },
    {
      "cell_type": "code",
      "source": [
        "with tf.device('GPU:0'):\n",
        "  x_var=tf.Variable(0.3)\n",
        "  print(x_var.device)\n",
        "print(x_var.device)"
      ],
      "metadata": {
        "colab": {
          "base_uri": "https://localhost:8080/"
        },
        "id": "npHIDpnirD4s",
        "outputId": "2ec22528-2fd5-48c8-eb4c-1b3c805e79ec"
      },
      "execution_count": 136,
      "outputs": [
        {
          "output_type": "stream",
          "name": "stdout",
          "text": [
            "/job:localhost/replica:0/task:0/device:CPU:0\n",
            "/job:localhost/replica:0/task:0/device:CPU:0\n"
          ]
        }
      ]
    },
    {
      "cell_type": "code",
      "source": [
        "\n",
        "\n",
        "import tensorflow as tf\n",
        "\n",
        "# Check if a GPU is available\n",
        "gpus = tf.config.list_physical_devices('GPU')\n",
        "\n",
        "if gpus:\n",
        "    # GPU is available\n",
        "    print(\"GPU is available. Executing GPU code...\")\n",
        "\n",
        "    with tf.device('GPU:0'):\n",
        "        # Place any GPU-specific code here\n",
        "        x_var = tf.Variable(0.3)\n",
        "        print(f\"x_var is on {x_var.device}\")\n",
        "\n",
        "else:\n",
        "    # No GPU available\n",
        "    print(\"No GPU found. Executing CPU code...\")\n",
        "\n",
        "    with tf.device('CPU:0'):\n",
        "        # Place any CPU-specific code here\n",
        "        x_var = tf.Variable(0.3)\n",
        "        print(f\"x_var is on {x_var.device}\")\n"
      ],
      "metadata": {
        "colab": {
          "base_uri": "https://localhost:8080/"
        },
        "id": "cIYD5-pFrUeu",
        "outputId": "98e985fa-22ef-4618-9779-3a4efb3fe319"
      },
      "execution_count": 137,
      "outputs": [
        {
          "output_type": "stream",
          "name": "stdout",
          "text": [
            "No GPU found. Executing CPU code...\n",
            "x_var is on /job:localhost/replica:0/task:0/device:CPU:0\n"
          ]
        }
      ]
    },
    {
      "cell_type": "code",
      "source": [],
      "metadata": {
        "id": "IMcrCL80sbWe"
      },
      "execution_count": null,
      "outputs": []
    }
  ]
}