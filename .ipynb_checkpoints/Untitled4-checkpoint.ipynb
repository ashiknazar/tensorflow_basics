{
 "cells": [
  {
   "cell_type": "code",
   "execution_count": 42,
   "metadata": {
    "id": "2dVZvCufgUsd"
   },
   "outputs": [],
   "source": [
    "import tensorflow as tf"
   ]
  },
  {
   "cell_type": "markdown",
   "metadata": {
    "id": "Yx7joiQQjp_i"
   },
   "source": [
    "**Scalars and vectors**"
   ]
  },
  {
   "cell_type": "code",
   "execution_count": 4,
   "metadata": {
    "colab": {
     "base_uri": "https://localhost:8080/"
    },
    "id": "vuwmHXDogZCJ",
    "outputId": "d0be5346-52ee-4d1d-9101-ea508c0af080"
   },
   "outputs": [
    {
     "name": "stdout",
     "output_type": "stream",
     "text": [
      "tf.Tensor(4, shape=(), dtype=int32)\n"
     ]
    }
   ],
   "source": [
    "#scalar\n",
    "tensor_zero_dimention=tf.constant(4)\n",
    "print(tensor_zero_dimention)"
   ]
  },
  {
   "cell_type": "code",
   "execution_count": 5,
   "metadata": {
    "colab": {
     "base_uri": "https://localhost:8080/"
    },
    "id": "fe2TaSvtglRm",
    "outputId": "fae89bcf-2fe0-4b14-b21a-59550de65ddf"
   },
   "outputs": [
    {
     "name": "stdout",
     "output_type": "stream",
     "text": [
      "tf.Tensor([ 2  0 -3], shape=(3,), dtype=int32)\n"
     ]
    }
   ],
   "source": [
    "#one dim\n",
    "tensor_one_dim=tf.constant([2,0,-3])\n",
    "print(tensor_one_dim)"
   ]
  },
  {
   "cell_type": "code",
   "execution_count": 7,
   "metadata": {
    "colab": {
     "base_uri": "https://localhost:8080/"
    },
    "id": "TY-uiYafhIdW",
    "outputId": "e9d9ae55-cd77-48c8-b2ae-9a95523a3690"
   },
   "outputs": [
    {
     "name": "stdout",
     "output_type": "stream",
     "text": [
      "tf.Tensor(\n",
      "[[ 1  2  0]\n",
      " [ 3  4  3]\n",
      " [ 9 90  0]], shape=(3, 3), dtype=int32)\n"
     ]
    }
   ],
   "source": [
    "tensor_two_d=tf.constant([[1,2,0],[3,4,3],[9,90,0]])\n",
    "print(tensor_two_d)"
   ]
  },
  {
   "cell_type": "code",
   "execution_count": 9,
   "metadata": {
    "colab": {
     "base_uri": "https://localhost:8080/"
    },
    "id": "vFbXPDKOhfgc",
    "outputId": "2a57d8d5-a3bf-4909-f193-bde65a6208d8"
   },
   "outputs": [
    {
     "name": "stdout",
     "output_type": "stream",
     "text": [
      "(3, 3)\n"
     ]
    }
   ],
   "source": [
    "print(tensor_two_d.shape)"
   ]
  },
  {
   "cell_type": "code",
   "execution_count": 10,
   "metadata": {
    "colab": {
     "base_uri": "https://localhost:8080/"
    },
    "id": "UhN2puz8hycU",
    "outputId": "84c38544-a1c1-4e6d-deca-b8f279b1d564"
   },
   "outputs": [
    {
     "name": "stdout",
     "output_type": "stream",
     "text": [
      "2\n"
     ]
    }
   ],
   "source": [
    "print(tensor_two_d.ndim)"
   ]
  },
  {
   "cell_type": "code",
   "execution_count": 12,
   "metadata": {
    "colab": {
     "base_uri": "https://localhost:8080/"
    },
    "id": "GbE45_Xgh7M6",
    "outputId": "2c708d2a-9c15-48ac-d4f8-b1ede1b86cf6"
   },
   "outputs": [
    {
     "name": "stdout",
     "output_type": "stream",
     "text": [
      "tf.Tensor([ 2.  0. -3.  8.], shape=(4,), dtype=float32)\n"
     ]
    }
   ],
   "source": [
    "#setting data type\n",
    "tens_dtype=tf.constant([2,0,-3,8],dtype=tf.float32)\n",
    "print(tens_dtype)\n",
    "\n",
    "#dtype here is not int but float"
   ]
  },
  {
   "cell_type": "markdown",
   "metadata": {
    "id": "BOnyuzNbj5El"
   },
   "source": [
    "**Data types and casting**"
   ]
  },
  {
   "cell_type": "markdown",
   "metadata": {
    "id": "LZJYGOLbjC1j"
   },
   "source": [
    "https://www.tensorflow.org/api_docs/python/tf/dtypes"
   ]
  },
  {
   "cell_type": "code",
   "execution_count": 13,
   "metadata": {
    "colab": {
     "base_uri": "https://localhost:8080/"
    },
    "id": "aQ-INBDZjG5v",
    "outputId": "32223af1-aba2-43e0-8060-ab170fbe4be6"
   },
   "outputs": [
    {
     "name": "stdout",
     "output_type": "stream",
     "text": [
      "tf.Tensor([ 2  0 -3  8], shape=(4,), dtype=int16)\n"
     ]
    }
   ],
   "source": [
    "tens_dtype=tf.cast(tens_dtype,dtype=tf.int16)\n",
    "print(tens_dtype)"
   ]
  },
  {
   "cell_type": "markdown",
   "metadata": {
    "id": "PP5NHoVQkLAw"
   },
   "source": [
    "**Multi dimentional arrays**"
   ]
  },
  {
   "cell_type": "code",
   "execution_count": 14,
   "metadata": {
    "id": "hwNKLdoajfcu"
   },
   "outputs": [],
   "source": [
    "import numpy as np"
   ]
  },
  {
   "cell_type": "code",
   "execution_count": 15,
   "metadata": {
    "colab": {
     "base_uri": "https://localhost:8080/"
    },
    "id": "TZQLg5g0kW9-",
    "outputId": "6b3e73c7-5a6e-45e1-8a33-a4126b97dcbd"
   },
   "outputs": [
    {
     "name": "stdout",
     "output_type": "stream",
     "text": [
      "[1 2 4]\n"
     ]
    }
   ],
   "source": [
    "np_array=np.array([1,2,4])\n",
    "print(np_array)"
   ]
  },
  {
   "cell_type": "code",
   "execution_count": 16,
   "metadata": {
    "id": "TSLQ48iOkk2Y"
   },
   "outputs": [],
   "source": [
    "conv_to_tensor=tf.convert_to_tensor(np_array)"
   ]
  },
  {
   "cell_type": "code",
   "execution_count": 17,
   "metadata": {
    "colab": {
     "base_uri": "https://localhost:8080/"
    },
    "id": "qYWL81j5kuP7",
    "outputId": "9c1c3b18-435a-46d8-99a9-3f1f25c1202a"
   },
   "outputs": [
    {
     "data": {
      "text/plain": [
       "<tf.Tensor: shape=(3,), dtype=int64, numpy=array([1, 2, 4])>"
      ]
     },
     "execution_count": 17,
     "metadata": {},
     "output_type": "execute_result"
    }
   ],
   "source": [
    "conv_to_tensor"
   ]
  },
  {
   "cell_type": "code",
   "execution_count": 21,
   "metadata": {
    "colab": {
     "base_uri": "https://localhost:8080/"
    },
    "id": "W3Pxk5WKkvyT",
    "outputId": "5f708611-dd8e-40b5-bd42-a18fb91bd915"
   },
   "outputs": [
    {
     "name": "stdout",
     "output_type": "stream",
     "text": [
      "tf.Tensor(\n",
      "[[1. 0. 0.]\n",
      " [0. 1. 0.]\n",
      " [0. 0. 1.]\n",
      " [0. 0. 0.]\n",
      " [0. 0. 0.]], shape=(5, 3), dtype=float32)\n"
     ]
    }
   ],
   "source": [
    "eye_tens=tf.eye(num_rows=5,\n",
    "                num_columns=3,\n",
    "                batch_shape=None,\n",
    "                dtype=tf.dtypes.float32,\n",
    "                name=None\n",
    "                )\n",
    "print(eye_tens)"
   ]
  },
  {
   "cell_type": "code",
   "execution_count": 24,
   "metadata": {
    "colab": {
     "base_uri": "https://localhost:8080/"
    },
    "id": "VQyfqTF2lUVm",
    "outputId": "564f1ca0-9dc8-461f-e275-55f3154863be"
   },
   "outputs": [
    {
     "name": "stdout",
     "output_type": "stream",
     "text": [
      "tf.Tensor(\n",
      "[[5 5 5 5]\n",
      " [5 5 5 5]\n",
      " [5 5 5 5]], shape=(3, 4), dtype=int32)\n"
     ]
    }
   ],
   "source": [
    "fill_tensor=tf.fill([3,4],5,name=None)\n",
    "print(fill_tensor)"
   ]
  },
  {
   "cell_type": "code",
   "execution_count": 27,
   "metadata": {
    "colab": {
     "base_uri": "https://localhost:8080/"
    },
    "id": "ChXbyXIjlnOz",
    "outputId": "73836d97-1ca7-43fb-fd91-f951077d720d"
   },
   "outputs": [
    {
     "name": "stdout",
     "output_type": "stream",
     "text": [
      "tf.Tensor(\n",
      "[[1. 1. 1. 1. 1.]\n",
      " [1. 1. 1. 1. 1.]\n",
      " [1. 1. 1. 1. 1.]\n",
      " [1. 1. 1. 1. 1.]\n",
      " [1. 1. 1. 1. 1.]], shape=(5, 5), dtype=float32)\n"
     ]
    }
   ],
   "source": [
    "ones=tf.ones([5,5],dtype=tf.dtypes.float32,name=None)\n",
    "print(ones)"
   ]
  },
  {
   "cell_type": "code",
   "execution_count": 30,
   "metadata": {
    "colab": {
     "base_uri": "https://localhost:8080/"
    },
    "id": "SjQIhxBqlonW",
    "outputId": "663b17d1-4150-42ba-b8cc-a290e8bbd188"
   },
   "outputs": [
    {
     "name": "stdout",
     "output_type": "stream",
     "text": [
      "tf.Tensor(\n",
      "[[1 1 1]\n",
      " [1 1 1]], shape=(2, 3), dtype=int32)\n"
     ]
    }
   ],
   "source": [
    "#ones like\n",
    "\n",
    "sample=tf.constant([[1,2,3],[4,6,7]])\n",
    "one_like_tensor=tf.ones_like(sample)\n",
    "print(one_like_tensor)"
   ]
  },
  {
   "cell_type": "code",
   "execution_count": 34,
   "metadata": {
    "colab": {
     "base_uri": "https://localhost:8080/"
    },
    "id": "K0lEYeagl5dM",
    "outputId": "05573e61-1064-4ccd-ee8d-18429d52dcf9"
   },
   "outputs": [
    {
     "name": "stdout",
     "output_type": "stream",
     "text": [
      "tf.Tensor(\n",
      "[[0 0 0 0]\n",
      " [0 0 0 0]\n",
      " [0 0 0 0]], shape=(3, 4), dtype=int32)\n"
     ]
    }
   ],
   "source": [
    "zeroz=tf.zeros([3,4],tf.int32)\n",
    "print(zeroz)"
   ]
  },
  {
   "cell_type": "code",
   "execution_count": 35,
   "metadata": {
    "colab": {
     "base_uri": "https://localhost:8080/"
    },
    "id": "ld2XAVwSml4T",
    "outputId": "16557db7-5cf6-4511-ced4-53d6f8e0af57"
   },
   "outputs": [
    {
     "name": "stdout",
     "output_type": "stream",
     "text": [
      "tf.Tensor([3 4], shape=(2,), dtype=int32)\n"
     ]
    }
   ],
   "source": [
    "print(tf.shape(zeroz))"
   ]
  },
  {
   "cell_type": "markdown",
   "metadata": {
    "id": "6jADbdfrnDKP"
   },
   "source": [
    "**Random**"
   ]
  },
  {
   "cell_type": "code",
   "execution_count": 41,
   "metadata": {
    "colab": {
     "base_uri": "https://localhost:8080/",
     "height": 35
    },
    "id": "CyKcwvOXnmmO",
    "outputId": "14405de9-f834-44cf-cf0d-395be8ffd658"
   },
   "outputs": [
    {
     "data": {
      "application/vnd.google.colaboratory.intrinsic+json": {
       "type": "string"
      },
      "text/plain": [
       "'\\ntf.random.normal(\\n    shape,\\n    mean=0.0,\\n    stddev=1.0,\\n    dtype=tf.dtypes.float32,\\n    seed=None,\\n    name=None\\n)\\n '"
      ]
     },
     "execution_count": 41,
     "metadata": {},
     "output_type": "execute_result"
    }
   ],
   "source": [
    "\"\"\"\n",
    "tf.random.normal(\n",
    "    shape,\n",
    "    mean=0.0,\n",
    "    stddev=1.0,\n",
    "    dtype=tf.dtypes.float32,\n",
    "    seed=None,\n",
    "    name=None\n",
    ")\n",
    " \"\"\""
   ]
  },
  {
   "cell_type": "code",
   "execution_count": 37,
   "metadata": {
    "colab": {
     "base_uri": "https://localhost:8080/"
    },
    "id": "_bGfsCoem8gK",
    "outputId": "294b739c-5298-4159-e2e5-c2507eaa8522"
   },
   "outputs": [
    {
     "data": {
      "text/plain": [
       "<tf.Tensor: shape=(2, 3), dtype=float32, numpy=\n",
       "array([[ 0.892274  , -0.06854755, -0.45444527],\n",
       "       [-1.026941  , -1.8718371 , -0.2567551 ]], dtype=float32)>"
      ]
     },
     "execution_count": 37,
     "metadata": {},
     "output_type": "execute_result"
    }
   ],
   "source": [
    "tf.random.normal(\n",
    "    [2,3],\n",
    "    mean=0.0,\n",
    "    stddev=1.0,\n",
    "    dtype=tf.dtypes.float32,\n",
    "    seed=None,\n",
    "    name=None\n",
    ")"
   ]
  },
  {
   "cell_type": "code",
   "execution_count": 39,
   "metadata": {
    "colab": {
     "base_uri": "https://localhost:8080/"
    },
    "id": "Km67xVG9naGg",
    "outputId": "c17a4320-e91b-4e4f-c673-9bda9e8aea9a"
   },
   "outputs": [
    {
     "data": {
      "text/plain": [
       "<tf.Tensor: shape=(3, 3), dtype=float32, numpy=\n",
       "array([[0.52294445, 0.81186056, 0.69279814],\n",
       "       [0.05338955, 0.64232063, 0.09153891],\n",
       "       [0.78649545, 0.48432827, 0.1665535 ]], dtype=float32)>"
      ]
     },
     "execution_count": 39,
     "metadata": {},
     "output_type": "execute_result"
    }
   ],
   "source": [
    "tf.random.uniform([3,3],\n",
    "                  minval=0,\n",
    "                  maxval=1,\n",
    "                  dtype=tf.dtypes.float32,\n",
    "                  seed=None,\n",
    "                  name=None)"
   ]
  },
  {
   "cell_type": "markdown",
   "metadata": {
    "id": "FhS3_aaVofp0"
   },
   "source": [
    "https://www.acsu.buffalo.edu/~adamcunn/probability/binomial.html <br>\n",
    "choose binomial from the bar and change"
   ]
  },
  {
   "cell_type": "code",
   "execution_count": 44,
   "metadata": {
    "colab": {
     "base_uri": "https://localhost:8080/"
    },
    "id": "2-QVWVokoAQg",
    "outputId": "af8bd203-d8cf-47a7-8a6c-cb387e08d254"
   },
   "outputs": [
    {
     "name": "stdout",
     "output_type": "stream",
     "text": [
      "tf.Tensor([4 3 1], shape=(3,), dtype=int32)\n",
      "tf.Tensor([4 3 2], shape=(3,), dtype=int32)\n",
      "tf.Tensor([1 1 1], shape=(3,), dtype=int32)\n",
      "tf.Tensor([1 3 3], shape=(3,), dtype=int32)\n"
     ]
    }
   ],
   "source": [
    "tf.random.set_seed(5)\n",
    "print(tf.random.uniform(shape=[3,],maxval=5,dtype=tf.int32,seed=10))\n",
    "\n",
    "print(tf.random.uniform(shape=[3,],maxval=5,dtype=tf.int32,seed=10))\n",
    "\n",
    "print(tf.random.uniform(shape=[3,],maxval=5,dtype=tf.int32,seed=10))\n",
    "\n",
    "print(tf.random.uniform(shape=[3,],maxval=5,dtype=tf.int32,seed=10))"
   ]
  },
  {
   "cell_type": "code",
   "execution_count": 45,
   "metadata": {
    "colab": {
     "base_uri": "https://localhost:8080/"
    },
    "id": "-yLigJHPwZkL",
    "outputId": "add64852-478c-45e1-8948-09b02cc6b902"
   },
   "outputs": [
    {
     "name": "stdout",
     "output_type": "stream",
     "text": [
      "tf.Tensor([4 3 1], shape=(3,), dtype=int32)\n",
      "tf.Tensor([4 3 2], shape=(3,), dtype=int32)\n",
      "tf.Tensor([1 1 1], shape=(3,), dtype=int32)\n",
      "tf.Tensor([1 3 3], shape=(3,), dtype=int32)\n"
     ]
    }
   ],
   "source": [
    "tf.random.set_seed(5)\n",
    "print(tf.random.uniform(shape=[3,],maxval=5,dtype=tf.int32,seed=10))\n",
    "\n",
    "print(tf.random.uniform(shape=[3,],maxval=5,dtype=tf.int32,seed=10))\n",
    "\n",
    "print(tf.random.uniform(shape=[3,],maxval=5,dtype=tf.int32,seed=10))\n",
    "\n",
    "print(tf.random.uniform(shape=[3,],maxval=5,dtype=tf.int32,seed=10))"
   ]
  },
  {
   "cell_type": "code",
   "execution_count": 46,
   "metadata": {
    "colab": {
     "base_uri": "https://localhost:8080/"
    },
    "id": "d1yDQvduww-3",
    "outputId": "b38ee04e-68b6-4ae1-d67a-243336eedc0b"
   },
   "outputs": [
    {
     "name": "stdout",
     "output_type": "stream",
     "text": [
      "tf.Tensor([3 2 5 6], shape=(4,), dtype=int32)\n"
     ]
    }
   ],
   "source": [
    "#indexing\n",
    "ten=tf.constant([3,2,5,6,74,2,2])\n",
    "print(ten[0:4])"
   ]
  },
  {
   "cell_type": "code",
   "execution_count": 47,
   "metadata": {
    "colab": {
     "base_uri": "https://localhost:8080/"
    },
    "id": "To6_g7naxMiH",
    "outputId": "3536e10d-b879-4418-f250-48809524bc1c"
   },
   "outputs": [
    {
     "name": "stdout",
     "output_type": "stream",
     "text": [
      "tf.Tensor([2 3 4 5], shape=(4,), dtype=int32)\n"
     ]
    }
   ],
   "source": [
    "#range\n",
    "print(tf.range(2,6))"
   ]
  },
  {
   "cell_type": "code",
   "execution_count": 48,
   "metadata": {
    "colab": {
     "base_uri": "https://localhost:8080/"
    },
    "id": "aCqoXM0qxR2G",
    "outputId": "46fa673e-54ae-4e4a-c4a9-0390e82a897e"
   },
   "outputs": [
    {
     "data": {
      "text/plain": [
       "<tf.Tensor: shape=(), dtype=float32, numpy=12.3>"
      ]
     },
     "execution_count": 48,
     "metadata": {},
     "output_type": "execute_result"
    }
   ],
   "source": [
    "#abs\n",
    "tf.math.abs(-12.3)"
   ]
  },
  {
   "cell_type": "code",
   "execution_count": 50,
   "metadata": {
    "colab": {
     "base_uri": "https://localhost:8080/"
    },
    "id": "W4wb0E0s1efi",
    "outputId": "369c9c75-1bee-49ca-f99e-6ec6662e08f0"
   },
   "outputs": [
    {
     "data": {
      "text/plain": [
       "<tf.Tensor: shape=(), dtype=float64, numpy=12.747156545677157>"
      ]
     },
     "execution_count": 50,
     "metadata": {},
     "output_type": "execute_result"
    }
   ],
   "source": [
    "#abs of complex nos\n",
    "tf.abs(12-4.3j)"
   ]
  },
  {
   "cell_type": "code",
   "execution_count": 53,
   "metadata": {
    "colab": {
     "base_uri": "https://localhost:8080/"
    },
    "id": "EbmdWKqZ1r_Q",
    "outputId": "7244668a-2294-4fd6-cdd1-cff694153102"
   },
   "outputs": [
    {
     "data": {
      "text/plain": [
       "12.747156545677157"
      ]
     },
     "execution_count": 53,
     "metadata": {},
     "output_type": "execute_result"
    }
   ],
   "source": [
    "import math\n",
    "math.sqrt((12*12)+(4.3*4.3))"
   ]
  },
  {
   "cell_type": "code",
   "execution_count": null,
   "metadata": {
    "id": "DAv56XFt16ac"
   },
   "outputs": [],
   "source": []
  }
 ],
 "metadata": {
  "colab": {
   "provenance": []
  },
  "kernelspec": {
   "display_name": "Python 3 (ipykernel)",
   "language": "python",
   "name": "python3"
  },
  "language_info": {
   "codemirror_mode": {
    "name": "ipython",
    "version": 3
   },
   "file_extension": ".py",
   "mimetype": "text/x-python",
   "name": "python",
   "nbconvert_exporter": "python",
   "pygments_lexer": "ipython3",
   "version": "3.12.4"
  }
 },
 "nbformat": 4,
 "nbformat_minor": 4
}
