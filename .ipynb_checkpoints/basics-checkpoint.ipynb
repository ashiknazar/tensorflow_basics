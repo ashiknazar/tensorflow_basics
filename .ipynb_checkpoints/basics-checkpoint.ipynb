{
 "cells": [
  {
   "cell_type": "code",
   "execution_count": 1,
   "metadata": {
    "id": "2dVZvCufgUsd"
   },
   "outputs": [],
   "source": [
    "import tensorflow as tf"
   ]
  },
  {
   "cell_type": "markdown",
   "metadata": {
    "id": "Yx7joiQQjp_i"
   },
   "source": [
    "**Scalars and vectors**"
   ]
  },
  {
   "cell_type": "code",
   "execution_count": null,
   "metadata": {
    "colab": {
     "base_uri": "https://localhost:8080/"
    },
    "id": "vuwmHXDogZCJ",
    "outputId": "d0be5346-52ee-4d1d-9101-ea508c0af080"
   },
   "outputs": [
    {
     "name": "stdout",
     "output_type": "stream",
     "text": [
      "tf.Tensor(4, shape=(), dtype=int32)\n"
     ]
    }
   ],
   "source": [
    "#scalar\n",
    "tensor_zero_dimention=tf.constant(4)\n",
    "print(tensor_zero_dimention)"
   ]
  },
  {
   "cell_type": "code",
   "execution_count": null,
   "metadata": {
    "colab": {
     "base_uri": "https://localhost:8080/"
    },
    "id": "fe2TaSvtglRm",
    "outputId": "fae89bcf-2fe0-4b14-b21a-59550de65ddf"
   },
   "outputs": [
    {
     "name": "stdout",
     "output_type": "stream",
     "text": [
      "tf.Tensor([ 2  0 -3], shape=(3,), dtype=int32)\n"
     ]
    }
   ],
   "source": [
    "#one dim\n",
    "tensor_one_dim=tf.constant([2,0,-3])\n",
    "print(tensor_one_dim)"
   ]
  },
  {
   "cell_type": "code",
   "execution_count": null,
   "metadata": {
    "colab": {
     "base_uri": "https://localhost:8080/"
    },
    "id": "TY-uiYafhIdW",
    "outputId": "e9d9ae55-cd77-48c8-b2ae-9a95523a3690"
   },
   "outputs": [
    {
     "name": "stdout",
     "output_type": "stream",
     "text": [
      "tf.Tensor(\n",
      "[[ 1  2  0]\n",
      " [ 3  4  3]\n",
      " [ 9 90  0]], shape=(3, 3), dtype=int32)\n"
     ]
    }
   ],
   "source": [
    "tensor_two_d=tf.constant([[1,2,0],[3,4,3],[9,90,0]])\n",
    "print(tensor_two_d)"
   ]
  },
  {
   "cell_type": "code",
   "execution_count": null,
   "metadata": {
    "colab": {
     "base_uri": "https://localhost:8080/"
    },
    "id": "vFbXPDKOhfgc",
    "outputId": "2a57d8d5-a3bf-4909-f193-bde65a6208d8"
   },
   "outputs": [
    {
     "name": "stdout",
     "output_type": "stream",
     "text": [
      "(3, 3)\n"
     ]
    }
   ],
   "source": [
    "print(tensor_two_d.shape)"
   ]
  },
  {
   "cell_type": "code",
   "execution_count": null,
   "metadata": {
    "colab": {
     "base_uri": "https://localhost:8080/"
    },
    "id": "UhN2puz8hycU",
    "outputId": "84c38544-a1c1-4e6d-deca-b8f279b1d564"
   },
   "outputs": [
    {
     "name": "stdout",
     "output_type": "stream",
     "text": [
      "2\n"
     ]
    }
   ],
   "source": [
    "print(tensor_two_d.ndim)"
   ]
  },
  {
   "cell_type": "code",
   "execution_count": null,
   "metadata": {
    "colab": {
     "base_uri": "https://localhost:8080/"
    },
    "id": "GbE45_Xgh7M6",
    "outputId": "2c708d2a-9c15-48ac-d4f8-b1ede1b86cf6"
   },
   "outputs": [
    {
     "name": "stdout",
     "output_type": "stream",
     "text": [
      "tf.Tensor([ 2.  0. -3.  8.], shape=(4,), dtype=float32)\n"
     ]
    }
   ],
   "source": [
    "#setting data type\n",
    "tens_dtype=tf.constant([2,0,-3,8],dtype=tf.float32)\n",
    "print(tens_dtype)\n",
    "\n",
    "#dtype here is not int but float"
   ]
  },
  {
   "cell_type": "markdown",
   "metadata": {
    "id": "BOnyuzNbj5El"
   },
   "source": [
    "**Data types and casting**"
   ]
  },
  {
   "cell_type": "markdown",
   "metadata": {
    "id": "LZJYGOLbjC1j"
   },
   "source": [
    "https://www.tensorflow.org/api_docs/python/tf/dtypes"
   ]
  },
  {
   "cell_type": "code",
   "execution_count": null,
   "metadata": {
    "colab": {
     "base_uri": "https://localhost:8080/"
    },
    "id": "aQ-INBDZjG5v",
    "outputId": "32223af1-aba2-43e0-8060-ab170fbe4be6"
   },
   "outputs": [
    {
     "name": "stdout",
     "output_type": "stream",
     "text": [
      "tf.Tensor([ 2  0 -3  8], shape=(4,), dtype=int16)\n"
     ]
    }
   ],
   "source": [
    "tens_dtype=tf.cast(tens_dtype,dtype=tf.int16)\n",
    "print(tens_dtype)"
   ]
  },
  {
   "cell_type": "markdown",
   "metadata": {
    "id": "PP5NHoVQkLAw"
   },
   "source": [
    "**Multi dimentional arrays**"
   ]
  },
  {
   "cell_type": "code",
   "execution_count": null,
   "metadata": {
    "id": "hwNKLdoajfcu"
   },
   "outputs": [],
   "source": [
    "import numpy as np"
   ]
  },
  {
   "cell_type": "code",
   "execution_count": null,
   "metadata": {
    "colab": {
     "base_uri": "https://localhost:8080/"
    },
    "id": "TZQLg5g0kW9-",
    "outputId": "6b3e73c7-5a6e-45e1-8a33-a4126b97dcbd"
   },
   "outputs": [
    {
     "name": "stdout",
     "output_type": "stream",
     "text": [
      "[1 2 4]\n"
     ]
    }
   ],
   "source": [
    "np_array=np.array([1,2,4])\n",
    "print(np_array)"
   ]
  },
  {
   "cell_type": "code",
   "execution_count": null,
   "metadata": {
    "id": "TSLQ48iOkk2Y"
   },
   "outputs": [],
   "source": [
    "conv_to_tensor=tf.convert_to_tensor(np_array)"
   ]
  },
  {
   "cell_type": "code",
   "execution_count": null,
   "metadata": {
    "colab": {
     "base_uri": "https://localhost:8080/"
    },
    "id": "qYWL81j5kuP7",
    "outputId": "9c1c3b18-435a-46d8-99a9-3f1f25c1202a"
   },
   "outputs": [
    {
     "data": {
      "text/plain": [
       "<tf.Tensor: shape=(3,), dtype=int64, numpy=array([1, 2, 4])>"
      ]
     },
     "execution_count": 17,
     "metadata": {},
     "output_type": "execute_result"
    }
   ],
   "source": [
    "conv_to_tensor"
   ]
  },
  {
   "cell_type": "code",
   "execution_count": null,
   "metadata": {
    "colab": {
     "base_uri": "https://localhost:8080/"
    },
    "id": "W3Pxk5WKkvyT",
    "outputId": "5f708611-dd8e-40b5-bd42-a18fb91bd915"
   },
   "outputs": [
    {
     "name": "stdout",
     "output_type": "stream",
     "text": [
      "tf.Tensor(\n",
      "[[1. 0. 0.]\n",
      " [0. 1. 0.]\n",
      " [0. 0. 1.]\n",
      " [0. 0. 0.]\n",
      " [0. 0. 0.]], shape=(5, 3), dtype=float32)\n"
     ]
    }
   ],
   "source": [
    "eye_tens=tf.eye(num_rows=5,\n",
    "                num_columns=3,\n",
    "                batch_shape=None,\n",
    "                dtype=tf.dtypes.float32,\n",
    "                name=None\n",
    "                )\n",
    "print(eye_tens)"
   ]
  },
  {
   "cell_type": "code",
   "execution_count": null,
   "metadata": {
    "colab": {
     "base_uri": "https://localhost:8080/"
    },
    "id": "VQyfqTF2lUVm",
    "outputId": "564f1ca0-9dc8-461f-e275-55f3154863be"
   },
   "outputs": [
    {
     "name": "stdout",
     "output_type": "stream",
     "text": [
      "tf.Tensor(\n",
      "[[5 5 5 5]\n",
      " [5 5 5 5]\n",
      " [5 5 5 5]], shape=(3, 4), dtype=int32)\n"
     ]
    }
   ],
   "source": [
    "fill_tensor=tf.fill([3,4],5,name=None)\n",
    "print(fill_tensor)"
   ]
  },
  {
   "cell_type": "code",
   "execution_count": null,
   "metadata": {
    "colab": {
     "base_uri": "https://localhost:8080/"
    },
    "id": "ChXbyXIjlnOz",
    "outputId": "73836d97-1ca7-43fb-fd91-f951077d720d"
   },
   "outputs": [
    {
     "name": "stdout",
     "output_type": "stream",
     "text": [
      "tf.Tensor(\n",
      "[[1. 1. 1. 1. 1.]\n",
      " [1. 1. 1. 1. 1.]\n",
      " [1. 1. 1. 1. 1.]\n",
      " [1. 1. 1. 1. 1.]\n",
      " [1. 1. 1. 1. 1.]], shape=(5, 5), dtype=float32)\n"
     ]
    }
   ],
   "source": [
    "ones=tf.ones([5,5],dtype=tf.dtypes.float32,name=None)\n",
    "print(ones)"
   ]
  },
  {
   "cell_type": "code",
   "execution_count": null,
   "metadata": {
    "colab": {
     "base_uri": "https://localhost:8080/"
    },
    "id": "SjQIhxBqlonW",
    "outputId": "663b17d1-4150-42ba-b8cc-a290e8bbd188"
   },
   "outputs": [
    {
     "name": "stdout",
     "output_type": "stream",
     "text": [
      "tf.Tensor(\n",
      "[[1 1 1]\n",
      " [1 1 1]], shape=(2, 3), dtype=int32)\n"
     ]
    }
   ],
   "source": [
    "#ones like\n",
    "\n",
    "sample=tf.constant([[1,2,3],[4,6,7]])\n",
    "one_like_tensor=tf.ones_like(sample)\n",
    "print(one_like_tensor)"
   ]
  },
  {
   "cell_type": "code",
   "execution_count": null,
   "metadata": {
    "colab": {
     "base_uri": "https://localhost:8080/"
    },
    "id": "K0lEYeagl5dM",
    "outputId": "05573e61-1064-4ccd-ee8d-18429d52dcf9"
   },
   "outputs": [
    {
     "name": "stdout",
     "output_type": "stream",
     "text": [
      "tf.Tensor(\n",
      "[[0 0 0 0]\n",
      " [0 0 0 0]\n",
      " [0 0 0 0]], shape=(3, 4), dtype=int32)\n"
     ]
    }
   ],
   "source": [
    "zeroz=tf.zeros([3,4],tf.int32)\n",
    "print(zeroz)"
   ]
  },
  {
   "cell_type": "code",
   "execution_count": null,
   "metadata": {
    "colab": {
     "base_uri": "https://localhost:8080/"
    },
    "id": "ld2XAVwSml4T",
    "outputId": "16557db7-5cf6-4511-ced4-53d6f8e0af57"
   },
   "outputs": [
    {
     "name": "stdout",
     "output_type": "stream",
     "text": [
      "tf.Tensor([3 4], shape=(2,), dtype=int32)\n"
     ]
    }
   ],
   "source": [
    "print(tf.shape(zeroz))"
   ]
  },
  {
   "cell_type": "markdown",
   "metadata": {
    "id": "6jADbdfrnDKP"
   },
   "source": [
    "**Random**"
   ]
  },
  {
   "cell_type": "code",
   "execution_count": null,
   "metadata": {
    "colab": {
     "base_uri": "https://localhost:8080/",
     "height": 35
    },
    "id": "CyKcwvOXnmmO",
    "outputId": "14405de9-f834-44cf-cf0d-395be8ffd658"
   },
   "outputs": [
    {
     "data": {
      "application/vnd.google.colaboratory.intrinsic+json": {
       "type": "string"
      },
      "text/plain": [
       "'\\ntf.random.normal(\\n    shape,\\n    mean=0.0,\\n    stddev=1.0,\\n    dtype=tf.dtypes.float32,\\n    seed=None,\\n    name=None\\n)\\n '"
      ]
     },
     "execution_count": 41,
     "metadata": {},
     "output_type": "execute_result"
    }
   ],
   "source": [
    "\"\"\"\n",
    "tf.random.normal(\n",
    "    shape,\n",
    "    mean=0.0,\n",
    "    stddev=1.0,\n",
    "    dtype=tf.dtypes.float32,\n",
    "    seed=None,\n",
    "    name=None\n",
    ")\n",
    " \"\"\""
   ]
  },
  {
   "cell_type": "code",
   "execution_count": null,
   "metadata": {
    "colab": {
     "base_uri": "https://localhost:8080/"
    },
    "id": "_bGfsCoem8gK",
    "outputId": "294b739c-5298-4159-e2e5-c2507eaa8522"
   },
   "outputs": [
    {
     "data": {
      "text/plain": [
       "<tf.Tensor: shape=(2, 3), dtype=float32, numpy=\n",
       "array([[ 0.892274  , -0.06854755, -0.45444527],\n",
       "       [-1.026941  , -1.8718371 , -0.2567551 ]], dtype=float32)>"
      ]
     },
     "execution_count": 37,
     "metadata": {},
     "output_type": "execute_result"
    }
   ],
   "source": [
    "tf.random.normal(\n",
    "    [2,3],\n",
    "    mean=0.0,\n",
    "    stddev=1.0,\n",
    "    dtype=tf.dtypes.float32,\n",
    "    seed=None,\n",
    "    name=None\n",
    ")"
   ]
  },
  {
   "cell_type": "code",
   "execution_count": null,
   "metadata": {
    "colab": {
     "base_uri": "https://localhost:8080/"
    },
    "id": "Km67xVG9naGg",
    "outputId": "c17a4320-e91b-4e4f-c673-9bda9e8aea9a"
   },
   "outputs": [
    {
     "data": {
      "text/plain": [
       "<tf.Tensor: shape=(3, 3), dtype=float32, numpy=\n",
       "array([[0.52294445, 0.81186056, 0.69279814],\n",
       "       [0.05338955, 0.64232063, 0.09153891],\n",
       "       [0.78649545, 0.48432827, 0.1665535 ]], dtype=float32)>"
      ]
     },
     "execution_count": 39,
     "metadata": {},
     "output_type": "execute_result"
    }
   ],
   "source": [
    "tf.random.uniform([3,3],\n",
    "                  minval=0,\n",
    "                  maxval=1,\n",
    "                  dtype=tf.dtypes.float32,\n",
    "                  seed=None,\n",
    "                  name=None)"
   ]
  },
  {
   "cell_type": "markdown",
   "metadata": {
    "id": "FhS3_aaVofp0"
   },
   "source": [
    "https://www.acsu.buffalo.edu/~adamcunn/probability/binomial.html <br>\n",
    "choose binomial from the bar and change"
   ]
  },
  {
   "cell_type": "code",
   "execution_count": null,
   "metadata": {
    "colab": {
     "base_uri": "https://localhost:8080/"
    },
    "id": "2-QVWVokoAQg",
    "outputId": "af8bd203-d8cf-47a7-8a6c-cb387e08d254"
   },
   "outputs": [
    {
     "name": "stdout",
     "output_type": "stream",
     "text": [
      "tf.Tensor([4 3 1], shape=(3,), dtype=int32)\n",
      "tf.Tensor([4 3 2], shape=(3,), dtype=int32)\n",
      "tf.Tensor([1 1 1], shape=(3,), dtype=int32)\n",
      "tf.Tensor([1 3 3], shape=(3,), dtype=int32)\n"
     ]
    }
   ],
   "source": [
    "tf.random.set_seed(5)\n",
    "print(tf.random.uniform(shape=[3,],maxval=5,dtype=tf.int32,seed=10))\n",
    "\n",
    "print(tf.random.uniform(shape=[3,],maxval=5,dtype=tf.int32,seed=10))\n",
    "\n",
    "print(tf.random.uniform(shape=[3,],maxval=5,dtype=tf.int32,seed=10))\n",
    "\n",
    "print(tf.random.uniform(shape=[3,],maxval=5,dtype=tf.int32,seed=10))"
   ]
  },
  {
   "cell_type": "code",
   "execution_count": null,
   "metadata": {
    "colab": {
     "base_uri": "https://localhost:8080/"
    },
    "id": "-yLigJHPwZkL",
    "outputId": "add64852-478c-45e1-8948-09b02cc6b902"
   },
   "outputs": [
    {
     "name": "stdout",
     "output_type": "stream",
     "text": [
      "tf.Tensor([4 3 1], shape=(3,), dtype=int32)\n",
      "tf.Tensor([4 3 2], shape=(3,), dtype=int32)\n",
      "tf.Tensor([1 1 1], shape=(3,), dtype=int32)\n",
      "tf.Tensor([1 3 3], shape=(3,), dtype=int32)\n"
     ]
    }
   ],
   "source": [
    "tf.random.set_seed(5)\n",
    "print(tf.random.uniform(shape=[3,],maxval=5,dtype=tf.int32,seed=10))\n",
    "\n",
    "print(tf.random.uniform(shape=[3,],maxval=5,dtype=tf.int32,seed=10))\n",
    "\n",
    "print(tf.random.uniform(shape=[3,],maxval=5,dtype=tf.int32,seed=10))\n",
    "\n",
    "print(tf.random.uniform(shape=[3,],maxval=5,dtype=tf.int32,seed=10))"
   ]
  },
  {
   "cell_type": "code",
   "execution_count": null,
   "metadata": {
    "colab": {
     "base_uri": "https://localhost:8080/"
    },
    "id": "d1yDQvduww-3",
    "outputId": "b38ee04e-68b6-4ae1-d67a-243336eedc0b"
   },
   "outputs": [
    {
     "name": "stdout",
     "output_type": "stream",
     "text": [
      "tf.Tensor([3 2 5 6], shape=(4,), dtype=int32)\n"
     ]
    }
   ],
   "source": [
    "#indexing\n",
    "ten=tf.constant([3,2,5,6,74,2,2])\n",
    "print(ten[0:4])"
   ]
  },
  {
   "cell_type": "code",
   "execution_count": null,
   "metadata": {
    "colab": {
     "base_uri": "https://localhost:8080/"
    },
    "id": "To6_g7naxMiH",
    "outputId": "3536e10d-b879-4418-f250-48809524bc1c"
   },
   "outputs": [
    {
     "name": "stdout",
     "output_type": "stream",
     "text": [
      "tf.Tensor([2 3 4 5], shape=(4,), dtype=int32)\n"
     ]
    }
   ],
   "source": [
    "#range\n",
    "print(tf.range(2,6))"
   ]
  },
  {
   "cell_type": "code",
   "execution_count": null,
   "metadata": {
    "colab": {
     "base_uri": "https://localhost:8080/"
    },
    "id": "aCqoXM0qxR2G",
    "outputId": "46fa673e-54ae-4e4a-c4a9-0390e82a897e"
   },
   "outputs": [
    {
     "data": {
      "text/plain": [
       "<tf.Tensor: shape=(), dtype=float32, numpy=12.3>"
      ]
     },
     "execution_count": 48,
     "metadata": {},
     "output_type": "execute_result"
    }
   ],
   "source": [
    "#abs\n",
    "tf.math.abs(-12.3)"
   ]
  },
  {
   "cell_type": "code",
   "execution_count": null,
   "metadata": {
    "colab": {
     "base_uri": "https://localhost:8080/"
    },
    "id": "W4wb0E0s1efi",
    "outputId": "369c9c75-1bee-49ca-f99e-6ec6662e08f0"
   },
   "outputs": [
    {
     "data": {
      "text/plain": [
       "<tf.Tensor: shape=(), dtype=float64, numpy=12.747156545677157>"
      ]
     },
     "execution_count": 50,
     "metadata": {},
     "output_type": "execute_result"
    }
   ],
   "source": [
    "tf.abs(12-4.3j)"
   ]
  },
  {
   "cell_type": "code",
   "execution_count": 85,
   "metadata": {
    "colab": {
     "base_uri": "https://localhost:8080/"
    },
    "id": "EbmdWKqZ1r_Q",
    "outputId": "3e4ca8a5-4935-4136-f449-e7fce8e24d0e"
   },
   "outputs": [
    {
     "data": {
      "text/plain": [
       "<tf.Tensor: shape=(), dtype=float32, numpy=12.747157>"
      ]
     },
     "execution_count": 85,
     "metadata": {},
     "output_type": "execute_result"
    }
   ],
   "source": [
    "import math\n",
    "tf.sqrt((12*12)+(4.3*4.3))"
   ]
  },
  {
   "cell_type": "code",
   "execution_count": null,
   "metadata": {
    "id": "1HvKOJR9BA_0"
   },
   "outputs": [],
   "source": []
  },
  {
   "cell_type": "markdown",
   "metadata": {
    "id": "GL2abi_sA-Fw"
   },
   "source": [
    "**Math operations**\n",
    "\n",
    "1.   add\n",
    "2.   mul .\n",
    "3.    ....\n",
    "\n",
    "\n"
   ]
  },
  {
   "cell_type": "code",
   "execution_count": 65,
   "metadata": {
    "colab": {
     "base_uri": "https://localhost:8080/"
    },
    "id": "QAGkgucIBFw1",
    "outputId": "9222e4d3-e36a-4f3d-da63-8f1e1a003b5a"
   },
   "outputs": [
    {
     "name": "stdout",
     "output_type": "stream",
     "text": [
      "tf.Tensor([2 2 1 2 0], shape=(5,), dtype=int64)\n"
     ]
    }
   ],
   "source": [
    "x=tf.constant([[2,20,30,3,126],\n",
    "                      [3,11,160,1,8],\n",
    "                      [14,34,56,7,70]])\n",
    "print(tf.math.argmax(x))"
   ]
  },
  {
   "cell_type": "code",
   "execution_count": 66,
   "metadata": {
    "colab": {
     "base_uri": "https://localhost:8080/"
    },
    "id": "dYRYW74mByQX",
    "outputId": "e1ce3bd6-e070-4779-9775-e0e563f9bae3"
   },
   "outputs": [
    {
     "name": "stdout",
     "output_type": "stream",
     "text": [
      "tf.Tensor([0 1 0 1 1], shape=(5,), dtype=int64)\n"
     ]
    }
   ],
   "source": [
    "print(tf.math.argmin(x))"
   ]
  },
  {
   "cell_type": "code",
   "execution_count": 71,
   "metadata": {
    "colab": {
     "base_uri": "https://localhost:8080/"
    },
    "id": "mY_O17MRCJXy",
    "outputId": "b7d6ec2b-2667-4208-ccee-9361e41ec55c"
   },
   "outputs": [
    {
     "name": "stdout",
     "output_type": "stream",
     "text": [
      "tf.Tensor([2 2 1 2 0], shape=(5,), dtype=int64)\n"
     ]
    }
   ],
   "source": [
    "print(tf.math.argmax(x,axis=0))"
   ]
  },
  {
   "cell_type": "code",
   "execution_count": 72,
   "metadata": {
    "colab": {
     "base_uri": "https://localhost:8080/"
    },
    "id": "ypKvUPILCTK0",
    "outputId": "b0afa0f5-9d9f-48f8-bdc8-1cfdcaa640ca"
   },
   "outputs": [
    {
     "name": "stdout",
     "output_type": "stream",
     "text": [
      "tf.Tensor([0 3 3], shape=(3,), dtype=int64)\n"
     ]
    }
   ],
   "source": [
    "print(tf.math.argmin(x,1))"
   ]
  },
  {
   "cell_type": "code",
   "execution_count": 73,
   "metadata": {
    "colab": {
     "base_uri": "https://localhost:8080/"
    },
    "id": "spO77GmsCYB3",
    "outputId": "81f37e0e-fcbb-485a-ec81-4d8fe82a0a0e"
   },
   "outputs": [
    {
     "name": "stdout",
     "output_type": "stream",
     "text": [
      "tf.Tensor([0 1 0 1 1], shape=(5,), dtype=int64)\n"
     ]
    }
   ],
   "source": [
    "print(tf.math.argmin(x,0))"
   ]
  },
  {
   "cell_type": "code",
   "execution_count": 83,
   "metadata": {
    "colab": {
     "base_uri": "https://localhost:8080/"
    },
    "id": "JpEJasrmC8JB",
    "outputId": "8a3225ee-d8de-4420-c34b-0e7957eb3d39"
   },
   "outputs": [
    {
     "name": "stdout",
     "output_type": "stream",
     "text": [
      "tf.Tensor(31, shape=(), dtype=int32)\n"
     ]
    }
   ],
   "source": [
    " #redice sum will find sum\n",
    " ten=tf.constant([[1,2,0],\n",
    "  [3,5,-1],\n",
    "   [1,5,6],\n",
    "    [2,3,4]])\n",
    " print(tf.math.reduce_sum(ten,axis=None,keepdims=False,name=None))"
   ]
  },
  {
   "cell_type": "code",
   "execution_count": 76,
   "metadata": {
    "colab": {
     "base_uri": "https://localhost:8080/"
    },
    "id": "nfeQuLtuDnFY",
    "outputId": "c133f7f7-4b6f-45a3-bc96-3beac31fe8a4"
   },
   "outputs": [
    {
     "name": "stdout",
     "output_type": "stream",
     "text": [
      "tf.Tensor(-1, shape=(), dtype=int32)\n"
     ]
    }
   ],
   "source": [
    " print(tf.math.reduce_min(ten,axis=None,keepdims=False,name=None))"
   ]
  },
  {
   "cell_type": "code",
   "execution_count": 77,
   "metadata": {
    "colab": {
     "base_uri": "https://localhost:8080/"
    },
    "id": "4J22MQm4EUCi",
    "outputId": "2ff6d1e7-d13f-4b12-8ee7-c5a2ccd8df3c"
   },
   "outputs": [
    {
     "name": "stdout",
     "output_type": "stream",
     "text": [
      "tf.Tensor(6, shape=(), dtype=int32)\n"
     ]
    }
   ],
   "source": [
    " print(tf.math.reduce_max(ten,axis=None,keepdims=False,name=None))"
   ]
  },
  {
   "cell_type": "code",
   "execution_count": 78,
   "metadata": {
    "colab": {
     "base_uri": "https://localhost:8080/"
    },
    "id": "1TR1R4Y6EXIN",
    "outputId": "432fa21a-b398-4752-9340-42bef7c6e3ee"
   },
   "outputs": [
    {
     "name": "stdout",
     "output_type": "stream",
     "text": [
      "tf.Tensor([ 7 15  9], shape=(3,), dtype=int32)\n"
     ]
    }
   ],
   "source": [
    "print(tf.math.reduce_sum(ten,axis=0,keepdims=False,name=None))"
   ]
  },
  {
   "cell_type": "code",
   "execution_count": 79,
   "metadata": {
    "colab": {
     "base_uri": "https://localhost:8080/"
    },
    "id": "CUMVKuUdEepI",
    "outputId": "8a30ec75-be9e-4f3d-e7fb-c487513a9da6"
   },
   "outputs": [
    {
     "name": "stdout",
     "output_type": "stream",
     "text": [
      "tf.Tensor([ 3  7 12  9], shape=(4,), dtype=int32)\n"
     ]
    }
   ],
   "source": [
    "print(tf.math.reduce_sum(ten,axis=1,keepdims=False,name=None))"
   ]
  },
  {
   "cell_type": "code",
   "execution_count": 87,
   "metadata": {
    "colab": {
     "base_uri": "https://localhost:8080/"
    },
    "id": "-9-me_UQEhIw",
    "outputId": "48ac444d-df88-40e5-8d04-214ebe810e75"
   },
   "outputs": [
    {
     "name": "stdout",
     "output_type": "stream",
     "text": [
      "tf.Tensor([[ 0.829  1.299 41.38 ]], shape=(1, 3), dtype=float16)\n"
     ]
    }
   ],
   "source": [
    "tens=tf.constant([[1,2,-0],\n",
    " [3,5,100]\n",
    " ,[1,5,6],\n",
    "  [2,3,8]],dtype=tf.float16)\n",
    "print(tf.math.reduce_std(tens,axis=0,keepdims=True,name=None))"
   ]
  },
  {
   "cell_type": "code",
   "execution_count": 88,
   "metadata": {
    "colab": {
     "base_uri": "https://localhost:8080/"
    },
    "id": "xZ1fEKvPRw6e",
    "outputId": "b27fbe89-cfbc-4c72-ee0e-22697273054f"
   },
   "outputs": [
    {
     "data": {
      "text/plain": [
       "TopKV2(values=<tf.Tensor: shape=(4, 1), dtype=float16, numpy=\n",
       "array([[  2.],\n",
       "       [100.],\n",
       "       [  6.],\n",
       "       [  8.]], dtype=float16)>, indices=<tf.Tensor: shape=(4, 1), dtype=int32, numpy=\n",
       "array([[1],\n",
       "       [2],\n",
       "       [2],\n",
       "       [2]], dtype=int32)>)"
      ]
     },
     "execution_count": 88,
     "metadata": {},
     "output_type": "execute_result"
    }
   ],
   "source": [
    "tf.math.top_k(tens,k=1)"
   ]
  },
  {
   "cell_type": "markdown",
   "metadata": {
    "id": "n1JmmmTMTNDe"
   },
   "source": [
    "\n",
    "\n",
    "\n",
    "1.   tf.linalg.matmul()\n",
    "2.   @ used as operator for matmul\n",
    "3.   tf.transpose\n",
    "4.   x.T   #transpose\n",
    "5.   tf.linalg.adjoint\n",
    "6.   \n",
    "\n"
   ]
  },
  {
   "cell_type": "code",
   "execution_count": 89,
   "metadata": {
    "colab": {
     "base_uri": "https://localhost:8080/"
    },
    "id": "3g9BEZRUTOdi",
    "outputId": "26e7b72d-398a-428a-a6db-bc46a0d7a181"
   },
   "outputs": [
    {
     "data": {
      "text/plain": [
       "<tf.Tensor: shape=(4, 4), dtype=int32, numpy=\n",
       "array([[ 0,  1,  2,  3],\n",
       "       [-1,  0,  1,  2],\n",
       "       [ 0, -1,  0,  1],\n",
       "       [ 0,  0, -1,  0]], dtype=int32)>"
      ]
     },
     "execution_count": 89,
     "metadata": {},
     "output_type": "execute_result"
    }
   ],
   "source": [
    "#band part m,n indexes\n",
    "#num_lower <0 || m-n <= num_lower || num_upper<0  || n-m <=num_upper\n",
    "inp=tf.constant([[0,1,2,3],\n",
    "                 [-1,0,1,2],\n",
    "                 [-2,-1,0,1],\n",
    "                 [-3,-2,-1,0]])\n",
    "tf.linalg.band_part(inp,1,-1)"
   ]
  },
  {
   "cell_type": "code",
   "execution_count": 90,
   "metadata": {
    "colab": {
     "base_uri": "https://localhost:8080/"
    },
    "id": "dhKaC1_VUya8",
    "outputId": "b4755215-a87a-4935-f962-ac67e8d107fa"
   },
   "outputs": [
    {
     "data": {
      "text/plain": [
       "<tf.Tensor: shape=(4, 4), dtype=int32, numpy=\n",
       "array([[ 0,  1,  0,  0],\n",
       "       [-1,  0,  1,  0],\n",
       "       [-2, -1,  0,  1],\n",
       "       [ 0, -2, -1,  0]], dtype=int32)>"
      ]
     },
     "execution_count": 90,
     "metadata": {},
     "output_type": "execute_result"
    }
   ],
   "source": [
    "tf.linalg.band_part(inp,2,1)"
   ]
  },
  {
   "cell_type": "markdown",
   "metadata": {
    "id": "sHlA_QYBaBpY"
   },
   "source": [
    "\n",
    "\n",
    "1.   tf.linalg.cross\n",
    "2.   tf.linalg.det\n",
    "3.   tf.linalg.inv\n",
    "4.   tf.linalg.matrix_transpose\n",
    "5.   tf.linalg.svd  #singular value decomposition\n",
    "\n",
    "\n",
    "\n"
   ]
  },
  {
   "cell_type": "code",
   "execution_count": 94,
   "metadata": {
    "colab": {
     "base_uri": "https://localhost:8080/"
    },
    "id": "mboURXn6VD06",
    "outputId": "7b17436d-ae47-4254-9f6b-74253ce6b234"
   },
   "outputs": [
    {
     "name": "stdout",
     "output_type": "stream",
     "text": [
      "(3, 4)\n",
      "(4, 5)\n",
      "------\n",
      "[[33 69 77 -6 27]\n",
      " [ 9 12  0 10 13]\n",
      " [21 51 60 -7 14]]\n",
      "------\n",
      "[[33 69 77 -6 27]\n",
      " [ 9 12  0 10 13]\n",
      " [21 51 60 -7 14]]\n"
     ]
    }
   ],
   "source": [
    "#einsum\n",
    "a=np.array([[2,6,5,2],\n",
    "            [2,-2,2,3],\n",
    "            [1,5,4,0]])\n",
    "b=np.array([[2,9,0,3,0],\n",
    "            [3,6,8,-2,2],\n",
    "            [1,3,5,0,1],\n",
    "            [3,0,2,0,5]])\n",
    "print(a.shape)\n",
    "print(b.shape)\n",
    "print(\"------\")\n",
    "print(np.matmul(a,b))\n",
    "print(\"------\")\n",
    "print(np.einsum(\"ij,jk->ik\",a,b))"
   ]
  },
  {
   "cell_type": "markdown",
   "metadata": {
    "id": "oS5ufmz8fENN"
   },
   "source": [
    "**expand dims**"
   ]
  },
  {
   "cell_type": "code",
   "execution_count": 97,
   "metadata": {
    "colab": {
     "base_uri": "https://localhost:8080/"
    },
    "id": "d1pdrCU-duKE",
    "outputId": "41f765bc-075e-482c-c030-efe804439070"
   },
   "outputs": [
    {
     "name": "stdout",
     "output_type": "stream",
     "text": [
      "tf.Tensor(\n",
      "[[[ 1  2  0]\n",
      "  [ 3  5 -1]]\n",
      "\n",
      " [[10  2  0]\n",
      "  [ 1  0  2]]\n",
      "\n",
      " [[ 5  8  0]\n",
      "  [ 2  7  0]]\n",
      "\n",
      " [[ 2  1  9]\n",
      "  [ 4 -3 32]]], shape=(4, 2, 3), dtype=int32)\n"
     ]
    }
   ],
   "source": [
    "ten_three_d=tf.constant([[[1,2,0],\n",
    "                          [3,5,-1]],\n",
    "                         [[10,2,0],\n",
    "                          [1,0,2]],\n",
    "                         [[5,8,0],\n",
    "                          [2,7,0]],\n",
    "                         [[2,1,9],\n",
    "                          [4,-3,32]]\n",
    "                         ])\n",
    "print(ten_three_d)\n"
   ]
  },
  {
   "cell_type": "code",
   "execution_count": 98,
   "metadata": {
    "colab": {
     "base_uri": "https://localhost:8080/"
    },
    "id": "-3bIISx4ecb4",
    "outputId": "dd4ee07c-3949-4986-e275-d0ab986bea5c"
   },
   "outputs": [
    {
     "name": "stdout",
     "output_type": "stream",
     "text": [
      "(1, 4, 2, 3)\n"
     ]
    }
   ],
   "source": [
    "print(tf.expand_dims(ten_three_d,axis=0).shape)"
   ]
  },
  {
   "cell_type": "code",
   "execution_count": 109,
   "metadata": {
    "colab": {
     "base_uri": "https://localhost:8080/"
    },
    "id": "JOWHqwnpgMU5",
    "outputId": "1d733f69-f3e4-4fd3-951f-d859dc1eb21e"
   },
   "outputs": [
    {
     "name": "stdout",
     "output_type": "stream",
     "text": [
      "(1, 4)\n",
      "tf.Tensor([[[2 3 4 5]]], shape=(1, 1, 4), dtype=int32)\n"
     ]
    }
   ],
   "source": [
    "x=tf.constant([[2,3,4,5]])\n",
    "print(x.shape)\n",
    "print(tf.expand_dims(x,axis=0))"
   ]
  },
  {
   "cell_type": "markdown",
   "metadata": {
    "id": "Hl_f4chhguFT"
   },
   "source": [
    "**squeeze**"
   ]
  },
  {
   "cell_type": "code",
   "execution_count": 110,
   "metadata": {
    "colab": {
     "base_uri": "https://localhost:8080/"
    },
    "id": "QUBpoZmjgkqb",
    "outputId": "c1cccd16-1fe9-4318-c77b-d86f9ce88bb3"
   },
   "outputs": [
    {
     "name": "stdout",
     "output_type": "stream",
     "text": [
      "tf.Tensor([[[2 3 4 5]]], shape=(1, 1, 4), dtype=int32)\n"
     ]
    }
   ],
   "source": [
    "exp_x=tf.expand_dims(x,axis=0)\n",
    "print(exp_x)"
   ]
  },
  {
   "cell_type": "code",
   "execution_count": 106,
   "metadata": {
    "colab": {
     "base_uri": "https://localhost:8080/"
    },
    "id": "7UgXQiXsg2Ax",
    "outputId": "a489a612-ad7f-4df1-dec4-f22a551b4743"
   },
   "outputs": [
    {
     "name": "stdout",
     "output_type": "stream",
     "text": [
      "tf.Tensor([2 3 4 5], shape=(4,), dtype=int32)\n"
     ]
    }
   ],
   "source": [
    "sq=tf.squeeze(exp_x,axis=None,name=None)\n",
    "print(sq)"
   ]
  },
  {
   "cell_type": "code",
   "execution_count": 107,
   "metadata": {
    "colab": {
     "base_uri": "https://localhost:8080/"
    },
    "id": "Q7oEe7xbhJIP",
    "outputId": "0bb496a3-4225-4740-8164-502be650ef61"
   },
   "outputs": [
    {
     "name": "stdout",
     "output_type": "stream",
     "text": [
      "tf.Tensor([[2 3 4 5]], shape=(1, 4), dtype=int32)\n"
     ]
    }
   ],
   "source": [
    "sq=tf.squeeze(exp_x,axis=0,name=None)\n",
    "print(sq)"
   ]
  },
  {
   "cell_type": "code",
   "execution_count": 111,
   "metadata": {
    "colab": {
     "base_uri": "https://localhost:8080/"
    },
    "id": "prkX1z13hYjt",
    "outputId": "676bcdf4-8dcb-4477-cac1-8a99d17a327e"
   },
   "outputs": [
    {
     "name": "stdout",
     "output_type": "stream",
     "text": [
      "tf.Tensor([[2 3 4 5]], shape=(1, 4), dtype=int32)\n"
     ]
    }
   ],
   "source": []
  },
  {
   "cell_type": "markdown",
   "metadata": {
    "id": "VwwHmrYUiD4X"
   },
   "source": [
    "**reshape**"
   ]
  },
  {
   "cell_type": "code",
   "execution_count": 112,
   "metadata": {
    "colab": {
     "base_uri": "https://localhost:8080/"
    },
    "id": "chw-stc1hbHF",
    "outputId": "d96fb757-c08f-435b-d0d2-f6b643cccd2d"
   },
   "outputs": [
    {
     "name": "stdout",
     "output_type": "stream",
     "text": [
      "tf.Tensor([[2 3 4 5]], shape=(1, 4), dtype=int32)\n"
     ]
    }
   ],
   "source": [
    "print(x)"
   ]
  },
  {
   "cell_type": "code",
   "execution_count": 113,
   "metadata": {
    "colab": {
     "base_uri": "https://localhost:8080/"
    },
    "id": "JJthUROqiCp5",
    "outputId": "fac84fff-bc06-4ffc-9824-3003ee069fdc"
   },
   "outputs": [
    {
     "name": "stdout",
     "output_type": "stream",
     "text": [
      "tf.Tensor([2 3 4 5], shape=(4,), dtype=int32)\n"
     ]
    }
   ],
   "source": [
    "print(tf.reshape(x,[4,]))"
   ]
  },
  {
   "cell_type": "code",
   "execution_count": 115,
   "metadata": {
    "id": "vhv8l7y2iTWB"
   },
   "outputs": [],
   "source": [
    "## tf.concat\n",
    "\n",
    "t1=[[1,2,3],[4,5,6]]\n",
    "t2=[[7,8,9],[10,11,12]]"
   ]
  },
  {
   "cell_type": "code",
   "execution_count": 116,
   "metadata": {
    "colab": {
     "base_uri": "https://localhost:8080/"
    },
    "id": "xnwBEu4IiyuH",
    "outputId": "c1cb8133-a7c1-404d-9470-76c70b3dff6f"
   },
   "outputs": [
    {
     "name": "stdout",
     "output_type": "stream",
     "text": [
      "tf.Tensor(\n",
      "[[1 2 3]\n",
      " [4 5 6]], shape=(2, 3), dtype=int32)\n"
     ]
    }
   ],
   "source": [
    "print(tf.constant(t1))"
   ]
  },
  {
   "cell_type": "code",
   "execution_count": 117,
   "metadata": {
    "colab": {
     "base_uri": "https://localhost:8080/"
    },
    "id": "6Z9qg7Kdigpf",
    "outputId": "4072d760-5798-43a0-cbc1-60338920645d"
   },
   "outputs": [
    {
     "data": {
      "text/plain": [
       "<tf.Tensor: shape=(4, 3), dtype=int32, numpy=\n",
       "array([[ 1,  2,  3],\n",
       "       [ 4,  5,  6],\n",
       "       [ 7,  8,  9],\n",
       "       [10, 11, 12]], dtype=int32)>"
      ]
     },
     "execution_count": 117,
     "metadata": {},
     "output_type": "execute_result"
    }
   ],
   "source": [
    "tf.concat([t1,t2],axis=0)"
   ]
  },
  {
   "cell_type": "code",
   "execution_count": 118,
   "metadata": {
    "colab": {
     "base_uri": "https://localhost:8080/"
    },
    "id": "ArgRggB7jEkU",
    "outputId": "37b1eb9b-8fe1-4c2c-8624-8f722ee3b661"
   },
   "outputs": [
    {
     "data": {
      "text/plain": [
       "<tf.Tensor: shape=(2, 2, 3), dtype=int32, numpy=\n",
       "array([[[ 1,  2,  3],\n",
       "        [ 4,  5,  6]],\n",
       "\n",
       "       [[ 7,  8,  9],\n",
       "        [10, 11, 12]]], dtype=int32)>"
      ]
     },
     "execution_count": 118,
     "metadata": {},
     "output_type": "execute_result"
    }
   ],
   "source": [
    "tf.stack([t1,t2],axis=0)"
   ]
  },
  {
   "cell_type": "code",
   "execution_count": 119,
   "metadata": {
    "colab": {
     "base_uri": "https://localhost:8080/"
    },
    "id": "x4NrTjCKjXl6",
    "outputId": "d8a2f3f9-e98a-4117-acf8-7bd47a5472d3"
   },
   "outputs": [
    {
     "data": {
      "text/plain": [
       "<tf.Tensor: shape=(2, 2, 3), dtype=int32, numpy=\n",
       "array([[[ 1,  2,  3],\n",
       "        [ 7,  8,  9]],\n",
       "\n",
       "       [[ 4,  5,  6],\n",
       "        [10, 11, 12]]], dtype=int32)>"
      ]
     },
     "execution_count": 119,
     "metadata": {},
     "output_type": "execute_result"
    }
   ],
   "source": [
    "tf.stack([t1,t2],axis=1)"
   ]
  },
  {
   "cell_type": "markdown",
   "metadata": {
    "id": "8dCu8yFxjswR"
   },
   "source": [
    "**padding**"
   ]
  },
  {
   "cell_type": "code",
   "execution_count": 120,
   "metadata": {
    "colab": {
     "base_uri": "https://localhost:8080/"
    },
    "id": "RMYmV6aKjbAT",
    "outputId": "5f1ed8d3-e282-47a6-dfb7-00d068c8726b"
   },
   "outputs": [
    {
     "data": {
      "text/plain": [
       "<tf.Tensor: shape=(8, 8), dtype=int32, numpy=\n",
       "array([[0, 0, 0, 0, 0, 0, 0, 0],\n",
       "       [0, 0, 1, 2, 3, 0, 0, 0],\n",
       "       [0, 0, 4, 5, 6, 0, 0, 0],\n",
       "       [0, 0, 0, 0, 0, 0, 0, 0],\n",
       "       [0, 0, 0, 0, 0, 0, 0, 0],\n",
       "       [0, 0, 0, 0, 0, 0, 0, 0],\n",
       "       [0, 0, 0, 0, 0, 0, 0, 0],\n",
       "       [0, 0, 0, 0, 0, 0, 0, 0]], dtype=int32)>"
      ]
     },
     "execution_count": 120,
     "metadata": {},
     "output_type": "execute_result"
    }
   ],
   "source": [
    "t=tf.constant([[1,2,3],\n",
    "               [4,5,6]])\n",
    "paddings=tf.constant([[1,5],\n",
    "                      [2,3]])\n",
    "tf.pad(t,paddings,\"CONSTANT\",constant_values=0)\n",
    "#one 0 above,five 0 below ,two 0 left,three 0 right"
   ]
  },
  {
   "cell_type": "markdown",
   "metadata": {
    "id": "CUollozfmHvL"
   },
   "source": [
    " tf.gather is used to extract slices from a tensor based on specified indices. This can be particularly useful when you want to select specific elements or sub-tensors without reshaping or slicing the entire tensor.\n",
    "\n",
    " gather vs slicing\n",
    "tf.gather: Allows you to gather specific indices across any axis of a tensor. You can gather non-contiguous elements or entire rows, columns, or slices based on index values.\n",
    "Slicing: Primarily used for contiguous sub-tensors. You define a range of indices and extract elements in a straightforward way."
   ]
  },
  {
   "cell_type": "code",
   "execution_count": 121,
   "metadata": {
    "colab": {
     "base_uri": "https://localhost:8080/"
    },
    "id": "U9riBwqnlKje",
    "outputId": "55230ae2-77a4-4d59-9c3f-d5c6e51697b5"
   },
   "outputs": [
    {
     "name": "stdout",
     "output_type": "stream",
     "text": [
      "Original Matrix:\n",
      "[[ 10.  20.  30.]\n",
      " [ 40.  50.  60.]\n",
      " [ 70.  80.  90.]\n",
      " [100. 110. 120.]]\n",
      "\n",
      "Gathered Rows:\n",
      "[[ 40.  50.  60.]\n",
      " [100. 110. 120.]]\n"
     ]
    }
   ],
   "source": [
    "\n",
    "matrix = tf.constant([[10, 20, 30],\n",
    "                      [40, 50, 60],\n",
    "                      [70, 80, 90],\n",
    "                      [100, 110, 120]], dtype=tf.float32)\n",
    "\n",
    "indices = tf.constant([1, 3])  # We want to gather the 2nd and 4th rows\n",
    "\n",
    "# Use tf.gather to get the specified rows\n",
    "gathered_rows = tf.gather(matrix, indices)\n",
    "\n",
    "print(\"Original Matrix:\")\n",
    "print(matrix.numpy())\n",
    "print(\"\\nGathered Rows:\")\n",
    "print(gathered_rows.numpy())\n"
   ]
  },
  {
   "cell_type": "markdown",
   "metadata": {
    "id": "PYHWL4rRnOX7"
   },
   "source": [
    "**Ragged tensors**\n",
    "\n",
    "TensorFlow is used to create ragged tensors, which are tensors with varying shapes or sizes along one or more axes. This is particularly useful for handling data that doesn't fit into a standard rectangular shape, such as lists of varying lengths"
   ]
  },
  {
   "cell_type": "code",
   "execution_count": 122,
   "metadata": {
    "colab": {
     "base_uri": "https://localhost:8080/"
    },
    "id": "1gUoBCaEmS6h",
    "outputId": "2eaf1631-539d-413a-9060-ddc3e0362d26"
   },
   "outputs": [
    {
     "name": "stdout",
     "output_type": "stream",
     "text": [
      "Ragged Tensor:\n",
      "<tf.RaggedTensor [[1, 2, 3], [4, 5], [6]]>\n",
      "\n",
      "Shape: (3, None)\n"
     ]
    }
   ],
   "source": [
    "import tensorflow as tf\n",
    "\n",
    "# Creating a ragged tensor from nested lists\n",
    "ragged_tensor = tf.ragged.constant([[1, 2, 3], [4, 5], [6]])\n",
    "\n",
    "print(\"Ragged Tensor:\")\n",
    "print(ragged_tensor)\n",
    "print(\"\\nShape:\", ragged_tensor.shape)\n"
   ]
  },
  {
   "cell_type": "markdown",
   "metadata": {
    "id": "0JSfltYGoV9u"
   },
   "source": [
    "**ragged boolean mask**"
   ]
  },
  {
   "cell_type": "code",
   "execution_count": 123,
   "metadata": {
    "colab": {
     "base_uri": "https://localhost:8080/"
    },
    "id": "cAh0hb3Jnkp4",
    "outputId": "3036a523-be5b-4d64-ff0e-0740e066f77a"
   },
   "outputs": [
    {
     "name": "stdout",
     "output_type": "stream",
     "text": [
      "Original Ragged Tensor:\n",
      "<tf.RaggedTensor [[1, 2, 3], [4, 5], [6, 7, 8]]>\n",
      "\n",
      "Filtered Ragged Tensor:\n",
      "<tf.RaggedTensor [[1, 3], [5], [6, 7]]>\n"
     ]
    }
   ],
   "source": [
    "import tensorflow as tf\n",
    "\n",
    "# Create a ragged tensor\n",
    "ragged_tensor = tf.ragged.constant([[1, 2, 3], [4, 5], [6, 7, 8]])\n",
    "\n",
    "print(\"Original Ragged Tensor:\")\n",
    "print(ragged_tensor)\n",
    "\n",
    "# Create a boolean mask\n",
    "mask = tf.ragged.constant([[True, False, True], [False, True], [True, True, False]])\n",
    "\n",
    "# Apply the boolean mask\n",
    "filtered_tensor = tf.ragged.boolean_mask(ragged_tensor, mask)\n",
    "\n",
    "print(\"\\nFiltered Ragged Tensor:\")\n",
    "print(filtered_tensor)\n"
   ]
  },
  {
   "cell_type": "markdown",
   "metadata": {
    "id": "EplT4Y31o1Zd"
   },
   "source": [
    "**sparse tensors**"
   ]
  },
  {
   "cell_type": "code",
   "execution_count": 124,
   "metadata": {
    "id": "9WGqfHK-o08g"
   },
   "outputs": [],
   "source": [
    "tens=tf.sparse.SparseTensor(\n",
    "    indices=[[1,1],[3,4]],values=[11,56],dense_shape=[5,6]\n",
    ")\n"
   ]
  },
  {
   "cell_type": "code",
   "execution_count": 125,
   "metadata": {
    "colab": {
     "base_uri": "https://localhost:8080/"
    },
    "id": "dp-9CJ0oobIP",
    "outputId": "efbbd9eb-6921-4e04-db1e-c462ac2fbf1a"
   },
   "outputs": [
    {
     "data": {
      "text/plain": [
       "SparseTensor(indices=tf.Tensor(\n",
       "[[1 1]\n",
       " [3 4]], shape=(2, 2), dtype=int64), values=tf.Tensor([11 56], shape=(2,), dtype=int32), dense_shape=tf.Tensor([5 6], shape=(2,), dtype=int64))"
      ]
     },
     "execution_count": 125,
     "metadata": {},
     "output_type": "execute_result"
    }
   ],
   "source": [
    "tens"
   ]
  },
  {
   "cell_type": "code",
   "execution_count": 126,
   "metadata": {
    "colab": {
     "base_uri": "https://localhost:8080/"
    },
    "id": "kZe_eqfrpMf6",
    "outputId": "a6e9cc2a-7a11-4817-dff0-84e47673c97c"
   },
   "outputs": [
    {
     "name": "stdout",
     "output_type": "stream",
     "text": [
      "tf.Tensor(\n",
      "[[ 0  0  0  0  0  0]\n",
      " [ 0 11  0  0  0  0]\n",
      " [ 0  0  0  0  0  0]\n",
      " [ 0  0  0  0 56  0]\n",
      " [ 0  0  0  0  0  0]], shape=(5, 6), dtype=int32)\n"
     ]
    }
   ],
   "source": [
    "print(tf.sparse.to_dense(tens))"
   ]
  },
  {
   "cell_type": "markdown",
   "metadata": {
    "id": "Jwty0hf6pjfX"
   },
   "source": [
    "**strings**"
   ]
  },
  {
   "cell_type": "markdown",
   "metadata": {
    "id": "a22NehIPpyXQ"
   },
   "source": [
    "\n",
    "\n",
    "1.   lower\n",
    "2.   upper\n",
    "\n"
   ]
  },
  {
   "cell_type": "markdown",
   "metadata": {
    "id": "MufgShMWp7az"
   },
   "source": [
    "**Variables**"
   ]
  },
  {
   "cell_type": "code",
   "execution_count": 127,
   "metadata": {
    "id": "lBuoOgbCp9xC"
   },
   "outputs": [],
   "source": [
    "x=tf.constant([1,2])\n",
    "x_var=tf.Variable(x,name='var1')"
   ]
  },
  {
   "cell_type": "code",
   "execution_count": 128,
   "metadata": {
    "colab": {
     "base_uri": "https://localhost:8080/"
    },
    "id": "G-Eo3Xv5qTPb",
    "outputId": "0ded6847-77fd-45ae-cc4f-aebd38e6c7ff"
   },
   "outputs": [
    {
     "name": "stdout",
     "output_type": "stream",
     "text": [
      "<tf.Variable 'var1:0' shape=(2,) dtype=int32, numpy=array([1, 2], dtype=int32)>\n"
     ]
    }
   ],
   "source": [
    "print(x_var)"
   ]
  },
  {
   "cell_type": "code",
   "execution_count": 129,
   "metadata": {
    "colab": {
     "base_uri": "https://localhost:8080/"
    },
    "id": "AcHt8yPBqWj3",
    "outputId": "4e5604cc-3f20-4654-dc72-03dbdd689f6e"
   },
   "outputs": [
    {
     "data": {
      "text/plain": [
       "<tf.Variable 'UnreadVariable' shape=(2,) dtype=int32, numpy=array([2, 3], dtype=int32)>"
      ]
     },
     "execution_count": 129,
     "metadata": {},
     "output_type": "execute_result"
    }
   ],
   "source": [
    "x_var.assign([2,3])"
   ]
  },
  {
   "cell_type": "code",
   "execution_count": 131,
   "metadata": {
    "colab": {
     "base_uri": "https://localhost:8080/"
    },
    "id": "CRnJYAzgqmpm",
    "outputId": "1bc107fa-bbf2-4080-f1a3-e183495551eb"
   },
   "outputs": [
    {
     "name": "stdout",
     "output_type": "stream",
     "text": [
      "<tf.Variable 'var1:0' shape=(2,) dtype=int32, numpy=array([2, 3], dtype=int32)>\n"
     ]
    }
   ],
   "source": [
    "print(x_var)"
   ]
  },
  {
   "cell_type": "code",
   "execution_count": 132,
   "metadata": {
    "colab": {
     "base_uri": "https://localhost:8080/"
    },
    "id": "fo2Htxrwqoz0",
    "outputId": "7751bfb9-1647-403f-853b-3b1e2d486e97"
   },
   "outputs": [
    {
     "data": {
      "text/plain": [
       "<tf.Variable 'var1:0' shape=(2,) dtype=int32, numpy=array([1, 2], dtype=int32)>"
      ]
     },
     "execution_count": 132,
     "metadata": {},
     "output_type": "execute_result"
    }
   ],
   "source": [
    "x_var.assign_sub([1,1])\n",
    "x_var"
   ]
  },
  {
   "cell_type": "code",
   "execution_count": 133,
   "metadata": {
    "colab": {
     "base_uri": "https://localhost:8080/"
    },
    "id": "JRz1s4F4q2eJ",
    "outputId": "688fff19-1fa8-46cc-bc44-8a5144bee2f2"
   },
   "outputs": [
    {
     "data": {
      "text/plain": [
       "<tf.Variable 'var1:0' shape=(2,) dtype=int32, numpy=array([2, 3], dtype=int32)>"
      ]
     },
     "execution_count": 133,
     "metadata": {},
     "output_type": "execute_result"
    }
   ],
   "source": [
    "x_var.assign_add([1,1])\n",
    "x_var"
   ]
  },
  {
   "cell_type": "code",
   "execution_count": 136,
   "metadata": {
    "colab": {
     "base_uri": "https://localhost:8080/"
    },
    "id": "npHIDpnirD4s",
    "outputId": "2ec22528-2fd5-48c8-eb4c-1b3c805e79ec"
   },
   "outputs": [
    {
     "name": "stdout",
     "output_type": "stream",
     "text": [
      "/job:localhost/replica:0/task:0/device:CPU:0\n",
      "/job:localhost/replica:0/task:0/device:CPU:0\n"
     ]
    }
   ],
   "source": [
    "with tf.device('GPU:0'):\n",
    "  x_var=tf.Variable(0.3)\n",
    "  print(x_var.device)\n",
    "print(x_var.device)"
   ]
  },
  {
   "cell_type": "code",
   "execution_count": 137,
   "metadata": {
    "colab": {
     "base_uri": "https://localhost:8080/"
    },
    "id": "cIYD5-pFrUeu",
    "outputId": "98e985fa-22ef-4618-9779-3a4efb3fe319"
   },
   "outputs": [
    {
     "name": "stdout",
     "output_type": "stream",
     "text": [
      "No GPU found. Executing CPU code...\n",
      "x_var is on /job:localhost/replica:0/task:0/device:CPU:0\n"
     ]
    }
   ],
   "source": [
    "\n",
    "\n",
    "import tensorflow as tf\n",
    "\n",
    "# Check if a GPU is available\n",
    "gpus = tf.config.list_physical_devices('GPU')\n",
    "\n",
    "if gpus:\n",
    "    # GPU is available\n",
    "    print(\"GPU is available. Executing GPU code...\")\n",
    "\n",
    "    with tf.device('GPU:0'):\n",
    "        # Place any GPU-specific code here\n",
    "        x_var = tf.Variable(0.3)\n",
    "        print(f\"x_var is on {x_var.device}\")\n",
    "\n",
    "else:\n",
    "    # No GPU available\n",
    "    print(\"No GPU found. Executing CPU code...\")\n",
    "\n",
    "    with tf.device('CPU:0'):\n",
    "        # Place any CPU-specific code here\n",
    "        x_var = tf.Variable(0.3)\n",
    "        print(f\"x_var is on {x_var.device}\")\n"
   ]
  },
  {
   "cell_type": "markdown",
   "metadata": {},
   "source": [
    "#### random generator"
   ]
  },
  {
   "cell_type": "code",
   "execution_count": 4,
   "metadata": {},
   "outputs": [
    {
     "name": "stdout",
     "output_type": "stream",
     "text": [
      "tf.Tensor(\n",
      "[[-0.7565803  -0.06854702]\n",
      " [ 0.07595026 -1.2573844 ]\n",
      " [-0.23193763 -1.8107855 ]], shape=(3, 2), dtype=float32)\n"
     ]
    }
   ],
   "source": [
    "random_2=tf.random.Generator.from_seed(42)\n",
    "random_1=random_2.normal(shape=(3,2))\n",
    "print(random_1)"
   ]
  },
  {
   "cell_type": "markdown",
   "metadata": {},
   "source": [
    "### shuffle order"
   ]
  },
  {
   "cell_type": "code",
   "execution_count": 11,
   "metadata": {},
   "outputs": [
    {
     "name": "stdout",
     "output_type": "stream",
     "text": [
      "tf.Tensor(\n",
      "[[ 2  6]\n",
      " [ 3  4]\n",
      " [10  4]], shape=(3, 2), dtype=int32)\n"
     ]
    }
   ],
   "source": [
    "not_shuffle=tf.constant([[10,4],[3,4],[2,6]])\n",
    "shuffled=tf.random.shuffle(not_shuffle)\n",
    "print(shuffled)"
   ]
  },
  {
   "cell_type": "code",
   "execution_count": 19,
   "metadata": {},
   "outputs": [
    {
     "name": "stdout",
     "output_type": "stream",
     "text": [
      "tf.Tensor(\n",
      "[[ 3  4]\n",
      " [ 2  6]\n",
      " [10  4]], shape=(3, 2), dtype=int32)\n"
     ]
    }
   ],
   "source": [
    "#global seed\n",
    "tf.random.set_seed(42)\n",
    "shuffled=tf.random.shuffle(not_shuffle)\n",
    "print(shuffled)"
   ]
  },
  {
   "cell_type": "code",
   "execution_count": 23,
   "metadata": {},
   "outputs": [
    {
     "name": "stdout",
     "output_type": "stream",
     "text": [
      "tf.Tensor(\n",
      "[[ 2  6]\n",
      " [ 3  4]\n",
      " [10  4]], shape=(3, 2), dtype=int32)\n",
      "tf.Tensor(\n",
      "[[ 2  6]\n",
      " [10  4]\n",
      " [ 3  4]], shape=(3, 2), dtype=int32)\n",
      "tf.Tensor(\n",
      "[[ 3  4]\n",
      " [10  4]\n",
      " [ 2  6]], shape=(3, 2), dtype=int32)\n",
      "tf.Tensor(\n",
      "[[ 2  6]\n",
      " [ 3  4]\n",
      " [10  4]], shape=(3, 2), dtype=int32)\n"
     ]
    }
   ],
   "source": [
    "#operational level seed\n",
    "shuffled=tf.random.shuffle(not_shuffle,seed=43)\n",
    "print(shuffled)\n",
    "shuffled=tf.random.shuffle(not_shuffle,seed=43)\n",
    "print(shuffled)\n",
    "shuffled=tf.random.shuffle(not_shuffle,seed=43)\n",
    "print(shuffled)\n",
    "shuffled=tf.random.shuffle(not_shuffle,seed=43)\n",
    "print(shuffled)"
   ]
  },
  {
   "cell_type": "markdown",
   "metadata": {},
   "source": [
    "- No Local Seed: Without a specified local seed, you get results that are influenced by all previous random operations.\n",
    "- local seeds help you control randomness for specific operations, but they don't guarantee the same output across multiple calls due to the internal state update after each operation."
   ]
  },
  {
   "cell_type": "code",
   "execution_count": 7,
   "metadata": {},
   "outputs": [],
   "source": [
    "import numpy as np"
   ]
  },
  {
   "cell_type": "markdown",
   "metadata": {},
   "source": [
    "### tensorflow statistics"
   ]
  },
  {
   "cell_type": "code",
   "execution_count": 30,
   "metadata": {},
   "outputs": [],
   "source": [
    "E=tf.constant(np.random.randint(0,100,size=50))"
   ]
  },
  {
   "cell_type": "code",
   "execution_count": 31,
   "metadata": {},
   "outputs": [
    {
     "data": {
      "text/plain": [
       "<tf.Tensor: shape=(), dtype=int32, numpy=50>"
      ]
     },
     "execution_count": 31,
     "metadata": {},
     "output_type": "execute_result"
    }
   ],
   "source": [
    "tf.size(E)"
   ]
  },
  {
   "cell_type": "markdown",
   "metadata": {},
   "source": [
    "tf.reduce_min(E)\n",
    "tf.reduce_sum(E)\n"
   ]
  },
  {
   "cell_type": "code",
   "execution_count": 43,
   "metadata": {},
   "outputs": [
    {
     "name": "stdout",
     "output_type": "stream",
     "text": [
      "Variance: 2.0\n"
     ]
    }
   ],
   "source": [
    "import tensorflow as tf\n",
    "import tensorflow_probability as tfp\n",
    "\n",
    "# Sample data\n",
    "E = tf.constant([1.0, 2.0, 3.0, 4.0, 5.0])\n",
    "\n",
    "# Calculate variance using tfp.stats.variance\n",
    "variance = tfp.stats.variance(E)\n",
    "print('Variance:', variance.numpy())\n"
   ]
  },
  {
   "cell_type": "code",
   "execution_count": 2,
   "metadata": {},
   "outputs": [
    {
     "data": {
      "text/plain": [
       "<tf.Tensor: shape=(4, 4), dtype=float32, numpy=\n",
       "array([[1., 0., 0., 0.],\n",
       "       [0., 1., 0., 0.],\n",
       "       [0., 0., 1., 0.],\n",
       "       [0., 0., 0., 1.]], dtype=float32)>"
      ]
     },
     "execution_count": 2,
     "metadata": {},
     "output_type": "execute_result"
    }
   ],
   "source": [
    "#create a list of indices\n",
    "some_list=[0,1,2,3]\n",
    "tf.one_hot(some_list,depth=4)"
   ]
  },
  {
   "cell_type": "code",
   "execution_count": 5,
   "metadata": {},
   "outputs": [
    {
     "data": {
      "text/plain": [
       "<tf.Tensor: shape=(4, 4), dtype=string, numpy=\n",
       "array([[b'yo', b'ops', b'ops', b'ops'],\n",
       "       [b'ops', b'yo', b'ops', b'ops'],\n",
       "       [b'ops', b'ops', b'yo', b'ops'],\n",
       "       [b'ops', b'ops', b'ops', b'yo']], dtype=object)>"
      ]
     },
     "execution_count": 5,
     "metadata": {},
     "output_type": "execute_result"
    }
   ],
   "source": [
    "some_list=[0,1,2,3]\n",
    "tf.one_hot(some_list,depth=4,on_value=\"yo\",off_value=\"ops\")"
   ]
  },
  {
   "cell_type": "markdown",
   "metadata": {},
   "source": [
    "#### tensor and numpy"
   ]
  },
  {
   "cell_type": "code",
   "execution_count": 8,
   "metadata": {},
   "outputs": [
    {
     "data": {
      "text/plain": [
       "<tf.Tensor: shape=(3,), dtype=float64, numpy=array([ 3.,  7., 10.])>"
      ]
     },
     "execution_count": 8,
     "metadata": {},
     "output_type": "execute_result"
    }
   ],
   "source": [
    "j=tf.constant(np.array([3.,7.,10.]))\n",
    "j"
   ]
  },
  {
   "cell_type": "code",
   "execution_count": 9,
   "metadata": {},
   "outputs": [
    {
     "data": {
      "text/plain": [
       "array([ 3.,  7., 10.])"
      ]
     },
     "execution_count": 9,
     "metadata": {},
     "output_type": "execute_result"
    }
   ],
   "source": [
    "np.array(j)"
   ]
  },
  {
   "cell_type": "code",
   "execution_count": null,
   "metadata": {},
   "outputs": [],
   "source": []
  }
 ],
 "metadata": {
  "colab": {
   "provenance": []
  },
  "kernelspec": {
   "display_name": "Python 3 (ipykernel)",
   "language": "python",
   "name": "python3"
  },
  "language_info": {
   "codemirror_mode": {
    "name": "ipython",
    "version": 3
   },
   "file_extension": ".py",
   "mimetype": "text/x-python",
   "name": "python",
   "nbconvert_exporter": "python",
   "pygments_lexer": "ipython3",
   "version": "3.12.4"
  }
 },
 "nbformat": 4,
 "nbformat_minor": 4
}
